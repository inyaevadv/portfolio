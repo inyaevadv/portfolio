{
 "cells": [
  {
   "cell_type": "markdown",
   "id": "20bc6d19",
   "metadata": {},
   "source": [
    "# Анализ продаж фармакологической компании (тестовое)"
   ]
  },
  {
   "cell_type": "markdown",
   "id": "2f41e07c",
   "metadata": {},
   "source": [
    "**Цель:** анализ данных продаж и количества диагностируемых пациентов фармкомпании.\n",
    "\n",
    "**Задачи:**\n",
    "•\tпредобработка;\n",
    "•\tанализ.\n",
    "\n",
    "**Данные:**\tпродажи фармкомпании; количество диагностированных пациентов."
   ]
  },
  {
   "cell_type": "markdown",
   "id": "3ccbe6e7",
   "metadata": {},
   "source": [
    "### Импорт библиотек, первичный обзор данных, предобработка"
   ]
  },
  {
   "cell_type": "code",
   "execution_count": 1299,
   "id": "0d5c953d",
   "metadata": {},
   "outputs": [],
   "source": [
    "#импорт библиотек\n",
    "import pandas as pd\n",
    "import matplotlib.pyplot as plt\n",
    "import seaborn as sns\n",
    "import warnings"
   ]
  },
  {
   "cell_type": "code",
   "execution_count": 1300,
   "id": "654dcdf0",
   "metadata": {},
   "outputs": [],
   "source": [
    "#загрузка данных\n",
    "sales = pd.read_excel('C:\\\\Users\\\\Дарья\\\\Desktop\\\\wink_test\\\\Russia Data Analyst Data Set_original.xlsx', sheet_name='Sales')\n",
    "patient_flow = pd.read_excel('C:\\\\Users\\\\Дарья\\\\Desktop\\\\wink_test\\\\Russia Data Analyst Data Set_original.xlsx', sheet_name='Patient Flow')"
   ]
  },
  {
   "cell_type": "markdown",
   "id": "e4ebf489",
   "metadata": {},
   "source": [
    "### Продажи "
   ]
  },
  {
   "cell_type": "code",
   "execution_count": 1301,
   "id": "3ff7c861",
   "metadata": {},
   "outputs": [
    {
     "name": "stdout",
     "output_type": "stream",
     "text": [
      "<class 'pandas.core.frame.DataFrame'>\n",
      "RangeIndex: 5576 entries, 0 to 5575\n",
      "Data columns (total 7 columns):\n",
      " #   Column          Non-Null Count  Dtype \n",
      "---  ------          --------------  ----- \n",
      " 0   Product Family  5576 non-null   object\n",
      " 1   Product         5576 non-null   object\n",
      " 2   Customer        5576 non-null   object\n",
      " 3   Business Unit   3072 non-null   object\n",
      " 4   Currency        5576 non-null   object\n",
      " 5   Date            5576 non-null   object\n",
      " 6   Sales           5576 non-null   int64 \n",
      "dtypes: int64(1), object(6)\n",
      "memory usage: 305.1+ KB\n"
     ]
    }
   ],
   "source": [
    "#смотрим структуру таблицы\n",
    "sales.info()"
   ]
  },
  {
   "cell_type": "markdown",
   "id": "21949ec0",
   "metadata": {},
   "source": [
    "Переименуем столбцы. "
   ]
  },
  {
   "cell_type": "code",
   "execution_count": 1302,
   "id": "9cee33c8",
   "metadata": {},
   "outputs": [
    {
     "data": {
      "text/plain": [
       "Index(['product_family', 'product', 'customer', 'business_unit', 'currency',\n",
       "       'date', 'sales'],\n",
       "      dtype='object')"
      ]
     },
     "execution_count": 1302,
     "metadata": {},
     "output_type": "execute_result"
    }
   ],
   "source": [
    "sales = sales.rename(columns={'Product Family': 'product_family', 'Product': 'product', 'Customer': 'customer', \n",
    "                              'Business Unit': 'business_unit', 'Currency': 'currency', 'Date': 'date',\n",
    "                              'Sales': 'sales'})\n",
    "sales.columns"
   ]
  },
  {
   "cell_type": "markdown",
   "id": "404bfeff",
   "metadata": {},
   "source": [
    "Посмотрим данные"
   ]
  },
  {
   "cell_type": "code",
   "execution_count": 1303,
   "id": "8fde3c5e",
   "metadata": {},
   "outputs": [
    {
     "data": {
      "text/html": [
       "<div>\n",
       "<style scoped>\n",
       "    .dataframe tbody tr th:only-of-type {\n",
       "        vertical-align: middle;\n",
       "    }\n",
       "\n",
       "    .dataframe tbody tr th {\n",
       "        vertical-align: top;\n",
       "    }\n",
       "\n",
       "    .dataframe thead th {\n",
       "        text-align: right;\n",
       "    }\n",
       "</style>\n",
       "<table border=\"1\" class=\"dataframe\">\n",
       "  <thead>\n",
       "    <tr style=\"text-align: right;\">\n",
       "      <th></th>\n",
       "      <th>product_family</th>\n",
       "      <th>product</th>\n",
       "      <th>customer</th>\n",
       "      <th>business_unit</th>\n",
       "      <th>currency</th>\n",
       "      <th>date</th>\n",
       "      <th>sales</th>\n",
       "    </tr>\n",
       "  </thead>\n",
       "  <tbody>\n",
       "    <tr>\n",
       "      <th>0</th>\n",
       "      <td>FAM1</td>\n",
       "      <td>Prd1</td>\n",
       "      <td>Cust1</td>\n",
       "      <td>NaN</td>\n",
       "      <td>M.CHF</td>\n",
       "      <td>2019-05-02 00:00:00</td>\n",
       "      <td>473885</td>\n",
       "    </tr>\n",
       "    <tr>\n",
       "      <th>1</th>\n",
       "      <td>FAM1</td>\n",
       "      <td>Prd1</td>\n",
       "      <td>Cust1</td>\n",
       "      <td>NaN</td>\n",
       "      <td>M.CHF</td>\n",
       "      <td>28/02/2019 00:00:00</td>\n",
       "      <td>-23694</td>\n",
       "    </tr>\n",
       "    <tr>\n",
       "      <th>2</th>\n",
       "      <td>FAM1</td>\n",
       "      <td>Prd1</td>\n",
       "      <td>Cust1</td>\n",
       "      <td>NaN</td>\n",
       "      <td>M.CHF</td>\n",
       "      <td>29/03/2019 00:00:00</td>\n",
       "      <td>23694</td>\n",
       "    </tr>\n",
       "    <tr>\n",
       "      <th>3</th>\n",
       "      <td>FAM1</td>\n",
       "      <td>Prd1</td>\n",
       "      <td>Cust1</td>\n",
       "      <td>NaN</td>\n",
       "      <td>M.CHF</td>\n",
       "      <td>31/03/2019 00:00:00</td>\n",
       "      <td>-23694</td>\n",
       "    </tr>\n",
       "    <tr>\n",
       "      <th>4</th>\n",
       "      <td>FAM1</td>\n",
       "      <td>Prd1</td>\n",
       "      <td>Cust1</td>\n",
       "      <td>NaN</td>\n",
       "      <td>M.CHF</td>\n",
       "      <td>15/04/2019 00:00:00</td>\n",
       "      <td>-23694</td>\n",
       "    </tr>\n",
       "    <tr>\n",
       "      <th>5</th>\n",
       "      <td>FAM1</td>\n",
       "      <td>Prd1</td>\n",
       "      <td>Cust1</td>\n",
       "      <td>NaN</td>\n",
       "      <td>M.CHF</td>\n",
       "      <td>30/04/2019 00:00:00</td>\n",
       "      <td>23694</td>\n",
       "    </tr>\n",
       "    <tr>\n",
       "      <th>6</th>\n",
       "      <td>FAM1</td>\n",
       "      <td>Prd1</td>\n",
       "      <td>Cust1</td>\n",
       "      <td>NaN</td>\n",
       "      <td>M.CHF</td>\n",
       "      <td>29/05/2019 00:00:00</td>\n",
       "      <td>422175</td>\n",
       "    </tr>\n",
       "    <tr>\n",
       "      <th>7</th>\n",
       "      <td>FAM1</td>\n",
       "      <td>Prd1</td>\n",
       "      <td>Cust1</td>\n",
       "      <td>NaN</td>\n",
       "      <td>M.CHF</td>\n",
       "      <td>31/05/2019 00:00:00</td>\n",
       "      <td>38821</td>\n",
       "    </tr>\n",
       "    <tr>\n",
       "      <th>8</th>\n",
       "      <td>FAM1</td>\n",
       "      <td>Prd1</td>\n",
       "      <td>Cust1</td>\n",
       "      <td>NaN</td>\n",
       "      <td>M.CHF</td>\n",
       "      <td>2019-11-06 00:00:00</td>\n",
       "      <td>-63084</td>\n",
       "    </tr>\n",
       "    <tr>\n",
       "      <th>9</th>\n",
       "      <td>FAM1</td>\n",
       "      <td>Prd1</td>\n",
       "      <td>Cust1</td>\n",
       "      <td>NaN</td>\n",
       "      <td>M.CHF</td>\n",
       "      <td>18/06/2019 00:00:00</td>\n",
       "      <td>63084</td>\n",
       "    </tr>\n",
       "  </tbody>\n",
       "</table>\n",
       "</div>"
      ],
      "text/plain": [
       "  product_family product customer business_unit currency                 date  \\\n",
       "0           FAM1    Prd1    Cust1           NaN    M.CHF  2019-05-02 00:00:00   \n",
       "1           FAM1    Prd1    Cust1           NaN    M.CHF  28/02/2019 00:00:00   \n",
       "2           FAM1    Prd1    Cust1           NaN    M.CHF  29/03/2019 00:00:00   \n",
       "3           FAM1    Prd1    Cust1           NaN    M.CHF  31/03/2019 00:00:00   \n",
       "4           FAM1    Prd1    Cust1           NaN    M.CHF  15/04/2019 00:00:00   \n",
       "5           FAM1    Prd1    Cust1           NaN    M.CHF  30/04/2019 00:00:00   \n",
       "6           FAM1    Prd1    Cust1           NaN    M.CHF  29/05/2019 00:00:00   \n",
       "7           FAM1    Prd1    Cust1           NaN    M.CHF  31/05/2019 00:00:00   \n",
       "8           FAM1    Prd1    Cust1           NaN    M.CHF  2019-11-06 00:00:00   \n",
       "9           FAM1    Prd1    Cust1           NaN    M.CHF  18/06/2019 00:00:00   \n",
       "\n",
       "    sales  \n",
       "0  473885  \n",
       "1  -23694  \n",
       "2   23694  \n",
       "3  -23694  \n",
       "4  -23694  \n",
       "5   23694  \n",
       "6  422175  \n",
       "7   38821  \n",
       "8  -63084  \n",
       "9   63084  "
      ]
     },
     "execution_count": 1303,
     "metadata": {},
     "output_type": "execute_result"
    }
   ],
   "source": [
    "sales.head(10)"
   ]
  },
  {
   "cell_type": "markdown",
   "id": "d24761d1",
   "metadata": {},
   "source": [
    "**Первичный обзор данных**: пропуски в business_unit, тип данных date - object, отрицательные значения в sales. "
   ]
  },
  {
   "cell_type": "markdown",
   "id": "4519fcff",
   "metadata": {},
   "source": [
    "Приведем тип данных столбца date к datetime."
   ]
  },
  {
   "cell_type": "code",
   "execution_count": 1304,
   "id": "8752740d",
   "metadata": {},
   "outputs": [],
   "source": [
    "sales['date'] = pd.to_datetime(sales['date'])"
   ]
  },
  {
   "cell_type": "markdown",
   "id": "e3ff5f28",
   "metadata": {},
   "source": [
    "Посмотрим на категориальные признаки"
   ]
  },
  {
   "cell_type": "code",
   "execution_count": 1305,
   "id": "fba72829",
   "metadata": {},
   "outputs": [
    {
     "data": {
      "text/plain": [
       "array(['FAM1', 'FAM2', 'FAM3', 'FAM4', 'FAM5', 'FAM6', 'FAM7', 'FAM8',\n",
       "       'FAM9', 'FAM10', 'FAM11', 'FAM12', 'FAM13', 'FAM14', 'FAM15',\n",
       "       'FAM16', 'FAM17', 'FAM18', 'FAM19', 'FAM20', 'FAM21', 'FAM22',\n",
       "       'FAM23', 'FAM24'], dtype=object)"
      ]
     },
     "execution_count": 1305,
     "metadata": {},
     "output_type": "execute_result"
    }
   ],
   "source": [
    "sales['product_family'].unique()"
   ]
  },
  {
   "cell_type": "code",
   "execution_count": 1306,
   "id": "9c13c297",
   "metadata": {},
   "outputs": [
    {
     "data": {
      "text/plain": [
       "24"
      ]
     },
     "execution_count": 1306,
     "metadata": {},
     "output_type": "execute_result"
    }
   ],
   "source": [
    "sales['product_family'].nunique()"
   ]
  },
  {
   "cell_type": "markdown",
   "id": "d7d47591",
   "metadata": {},
   "source": [
    "Имеем 24 уникальных product_family, наименования единообразны, неявных дубликатов не наблюдается."
   ]
  },
  {
   "cell_type": "code",
   "execution_count": 1307,
   "id": "da3a82cd",
   "metadata": {},
   "outputs": [
    {
     "data": {
      "text/plain": [
       "array(['Prd1', 'Prd2', 'Prd3', 'Prd4', 'Prd5', 'Prd6', 'Prd7', 'Prd8',\n",
       "       'Prd9', 'Prd10', 'Prd11', 'Prd12', 'Prd13', 'Prd14', 'Prd15',\n",
       "       'Prd16', 'Prd17', 'Prd18', 'Prd19', 'Prd20', 'Prd21', 'Prd22',\n",
       "       'Prd23', 'Prd24', 'Prd25', 'Prd26', 'Prd27', 'Prd28', 'Prd29',\n",
       "       'Prd30', 'Prd31', 'Prd32', 'Prd33', 'Prd34', 'Prd35', 'Prd36',\n",
       "       'Prd37', 'Prd38', 'Prd39', 'Prd40', 'Prd41', 'Prd42', 'Prd43',\n",
       "       'Prd44', 'Prd45', 'Prd46', 'Prd47', 'Prd48', 'Prd49', 'Prd50',\n",
       "       'Prd51', 'Prd52', 'Prd53', 'Prd54', 'Prd55', 'Prd56'], dtype=object)"
      ]
     },
     "execution_count": 1307,
     "metadata": {},
     "output_type": "execute_result"
    }
   ],
   "source": [
    "sales['product'].unique()"
   ]
  },
  {
   "cell_type": "code",
   "execution_count": 1308,
   "id": "cbd1cb21",
   "metadata": {},
   "outputs": [
    {
     "data": {
      "text/plain": [
       "56"
      ]
     },
     "execution_count": 1308,
     "metadata": {},
     "output_type": "execute_result"
    }
   ],
   "source": [
    "sales['product'].nunique()"
   ]
  },
  {
   "cell_type": "markdown",
   "id": "8876557f",
   "metadata": {},
   "source": [
    "Имеем 56 уникальных product, наименования единообразны, неявных дубликатов не наблюдается."
   ]
  },
  {
   "cell_type": "code",
   "execution_count": 1309,
   "id": "8e332734",
   "metadata": {},
   "outputs": [
    {
     "data": {
      "text/html": [
       "<div>\n",
       "<style scoped>\n",
       "    .dataframe tbody tr th:only-of-type {\n",
       "        vertical-align: middle;\n",
       "    }\n",
       "\n",
       "    .dataframe tbody tr th {\n",
       "        vertical-align: top;\n",
       "    }\n",
       "\n",
       "    .dataframe thead th {\n",
       "        text-align: right;\n",
       "    }\n",
       "</style>\n",
       "<table border=\"1\" class=\"dataframe\">\n",
       "  <thead>\n",
       "    <tr style=\"text-align: right;\">\n",
       "      <th></th>\n",
       "      <th>product_family</th>\n",
       "      <th>product</th>\n",
       "    </tr>\n",
       "  </thead>\n",
       "  <tbody>\n",
       "    <tr>\n",
       "      <th>0</th>\n",
       "      <td>FAM1</td>\n",
       "      <td>6</td>\n",
       "    </tr>\n",
       "    <tr>\n",
       "      <th>1</th>\n",
       "      <td>FAM11</td>\n",
       "      <td>4</td>\n",
       "    </tr>\n",
       "    <tr>\n",
       "      <th>2</th>\n",
       "      <td>FAM8</td>\n",
       "      <td>4</td>\n",
       "    </tr>\n",
       "    <tr>\n",
       "      <th>3</th>\n",
       "      <td>FAM10</td>\n",
       "      <td>4</td>\n",
       "    </tr>\n",
       "    <tr>\n",
       "      <th>4</th>\n",
       "      <td>FAM21</td>\n",
       "      <td>4</td>\n",
       "    </tr>\n",
       "    <tr>\n",
       "      <th>5</th>\n",
       "      <td>FAM3</td>\n",
       "      <td>3</td>\n",
       "    </tr>\n",
       "    <tr>\n",
       "      <th>6</th>\n",
       "      <td>FAM12</td>\n",
       "      <td>3</td>\n",
       "    </tr>\n",
       "    <tr>\n",
       "      <th>7</th>\n",
       "      <td>FAM13</td>\n",
       "      <td>3</td>\n",
       "    </tr>\n",
       "    <tr>\n",
       "      <th>8</th>\n",
       "      <td>FAM7</td>\n",
       "      <td>3</td>\n",
       "    </tr>\n",
       "    <tr>\n",
       "      <th>9</th>\n",
       "      <td>FAM2</td>\n",
       "      <td>3</td>\n",
       "    </tr>\n",
       "    <tr>\n",
       "      <th>10</th>\n",
       "      <td>FAM16</td>\n",
       "      <td>2</td>\n",
       "    </tr>\n",
       "    <tr>\n",
       "      <th>11</th>\n",
       "      <td>FAM18</td>\n",
       "      <td>2</td>\n",
       "    </tr>\n",
       "    <tr>\n",
       "      <th>12</th>\n",
       "      <td>FAM5</td>\n",
       "      <td>2</td>\n",
       "    </tr>\n",
       "    <tr>\n",
       "      <th>13</th>\n",
       "      <td>FAM4</td>\n",
       "      <td>2</td>\n",
       "    </tr>\n",
       "    <tr>\n",
       "      <th>14</th>\n",
       "      <td>FAM23</td>\n",
       "      <td>2</td>\n",
       "    </tr>\n",
       "    <tr>\n",
       "      <th>15</th>\n",
       "      <td>FAM6</td>\n",
       "      <td>1</td>\n",
       "    </tr>\n",
       "    <tr>\n",
       "      <th>16</th>\n",
       "      <td>FAM20</td>\n",
       "      <td>1</td>\n",
       "    </tr>\n",
       "    <tr>\n",
       "      <th>17</th>\n",
       "      <td>FAM24</td>\n",
       "      <td>1</td>\n",
       "    </tr>\n",
       "    <tr>\n",
       "      <th>18</th>\n",
       "      <td>FAM22</td>\n",
       "      <td>1</td>\n",
       "    </tr>\n",
       "    <tr>\n",
       "      <th>19</th>\n",
       "      <td>FAM19</td>\n",
       "      <td>1</td>\n",
       "    </tr>\n",
       "    <tr>\n",
       "      <th>20</th>\n",
       "      <td>FAM17</td>\n",
       "      <td>1</td>\n",
       "    </tr>\n",
       "    <tr>\n",
       "      <th>21</th>\n",
       "      <td>FAM15</td>\n",
       "      <td>1</td>\n",
       "    </tr>\n",
       "    <tr>\n",
       "      <th>22</th>\n",
       "      <td>FAM14</td>\n",
       "      <td>1</td>\n",
       "    </tr>\n",
       "    <tr>\n",
       "      <th>23</th>\n",
       "      <td>FAM9</td>\n",
       "      <td>1</td>\n",
       "    </tr>\n",
       "  </tbody>\n",
       "</table>\n",
       "</div>"
      ],
      "text/plain": [
       "   product_family  product\n",
       "0            FAM1        6\n",
       "1           FAM11        4\n",
       "2            FAM8        4\n",
       "3           FAM10        4\n",
       "4           FAM21        4\n",
       "5            FAM3        3\n",
       "6           FAM12        3\n",
       "7           FAM13        3\n",
       "8            FAM7        3\n",
       "9            FAM2        3\n",
       "10          FAM16        2\n",
       "11          FAM18        2\n",
       "12           FAM5        2\n",
       "13           FAM4        2\n",
       "14          FAM23        2\n",
       "15           FAM6        1\n",
       "16          FAM20        1\n",
       "17          FAM24        1\n",
       "18          FAM22        1\n",
       "19          FAM19        1\n",
       "20          FAM17        1\n",
       "21          FAM15        1\n",
       "22          FAM14        1\n",
       "23           FAM9        1"
      ]
     },
     "execution_count": 1309,
     "metadata": {},
     "output_type": "execute_result"
    }
   ],
   "source": [
    "sales.groupby('product_family').agg({'product':'nunique'}).sort_values('product', ascending=False).reset_index()"
   ]
  },
  {
   "cell_type": "markdown",
   "id": "94acc697",
   "metadata": {},
   "source": [
    "Каждому product_family может соответствовать несколько product."
   ]
  },
  {
   "cell_type": "code",
   "execution_count": 1310,
   "id": "e89e20fb",
   "metadata": {},
   "outputs": [
    {
     "data": {
      "text/plain": [
       "array(['Cust1', 'Cust2', 'Cust3', 'Cust4', 'Cust5', 'Cust6', 'Cust7',\n",
       "       'Cust8', 'Cust9', 'Cust10', 'Cust11', 'Cust12', 'Cust13', 'Cust14',\n",
       "       'Cust15', 'Cust16', 'Cust17', 'Cust18', 'Cust19', 'Cust20',\n",
       "       'Cust21', 'Cust22', 'Cust23', 'Cust24', 'Cust25', 'Cust26',\n",
       "       'Cust27', 'Cust28', 'Cust29', 'Cust30', 'Cust31', 'Cust32',\n",
       "       'Cust33', 'Cust34', 'Cust35', 'Cust36', 'Cust37'], dtype=object)"
      ]
     },
     "execution_count": 1310,
     "metadata": {},
     "output_type": "execute_result"
    }
   ],
   "source": [
    "sales['customer'].unique()"
   ]
  },
  {
   "cell_type": "code",
   "execution_count": 1311,
   "id": "d80de508",
   "metadata": {},
   "outputs": [
    {
     "data": {
      "text/plain": [
       "37"
      ]
     },
     "execution_count": 1311,
     "metadata": {},
     "output_type": "execute_result"
    }
   ],
   "source": [
    "sales['customer'].nunique()"
   ]
  },
  {
   "cell_type": "markdown",
   "id": "faa31858",
   "metadata": {},
   "source": [
    "Имеем 37 уникальных customer, наименования единообразны, неявных дубликатов не наблюдается."
   ]
  },
  {
   "cell_type": "code",
   "execution_count": 1312,
   "id": "439dc3d6",
   "metadata": {},
   "outputs": [
    {
     "data": {
      "text/plain": [
       "array(['M.CHF', 'M.RUB'], dtype=object)"
      ]
     },
     "execution_count": 1312,
     "metadata": {},
     "output_type": "execute_result"
    }
   ],
   "source": [
    "sales['currency'].unique()"
   ]
  },
  {
   "cell_type": "markdown",
   "id": "f29d1149",
   "metadata": {},
   "source": [
    "В currency имеем две валюты: российский рубль и швейцарский франк."
   ]
  },
  {
   "cell_type": "markdown",
   "id": "c6daccbf",
   "metadata": {},
   "source": [
    "#### Пропуски"
   ]
  },
  {
   "cell_type": "code",
   "execution_count": 1313,
   "id": "899228b5",
   "metadata": {},
   "outputs": [
    {
     "data": {
      "text/html": [
       "<style type=\"text/css\">\n",
       "#T_3be6d_row0_col0, #T_3be6d_row1_col0, #T_3be6d_row2_col0, #T_3be6d_row4_col0, #T_3be6d_row5_col0, #T_3be6d_row6_col0 {\n",
       "  background-color: #fff7fb;\n",
       "  color: #000000;\n",
       "}\n",
       "#T_3be6d_row3_col0 {\n",
       "  background-color: #023858;\n",
       "  color: #f1f1f1;\n",
       "}\n",
       "</style>\n",
       "<table id=\"T_3be6d\">\n",
       "  <thead>\n",
       "    <tr>\n",
       "      <th class=\"blank level0\" >&nbsp;</th>\n",
       "      <th id=\"T_3be6d_level0_col0\" class=\"col_heading level0 col0\" >0</th>\n",
       "    </tr>\n",
       "  </thead>\n",
       "  <tbody>\n",
       "    <tr>\n",
       "      <th id=\"T_3be6d_level0_row0\" class=\"row_heading level0 row0\" >product_family</th>\n",
       "      <td id=\"T_3be6d_row0_col0\" class=\"data row0 col0\" >0.000000</td>\n",
       "    </tr>\n",
       "    <tr>\n",
       "      <th id=\"T_3be6d_level0_row1\" class=\"row_heading level0 row1\" >product</th>\n",
       "      <td id=\"T_3be6d_row1_col0\" class=\"data row1 col0\" >0.000000</td>\n",
       "    </tr>\n",
       "    <tr>\n",
       "      <th id=\"T_3be6d_level0_row2\" class=\"row_heading level0 row2\" >customer</th>\n",
       "      <td id=\"T_3be6d_row2_col0\" class=\"data row2 col0\" >0.000000</td>\n",
       "    </tr>\n",
       "    <tr>\n",
       "      <th id=\"T_3be6d_level0_row3\" class=\"row_heading level0 row3\" >business_unit</th>\n",
       "      <td id=\"T_3be6d_row3_col0\" class=\"data row3 col0\" >44.900000</td>\n",
       "    </tr>\n",
       "    <tr>\n",
       "      <th id=\"T_3be6d_level0_row4\" class=\"row_heading level0 row4\" >currency</th>\n",
       "      <td id=\"T_3be6d_row4_col0\" class=\"data row4 col0\" >0.000000</td>\n",
       "    </tr>\n",
       "    <tr>\n",
       "      <th id=\"T_3be6d_level0_row5\" class=\"row_heading level0 row5\" >date</th>\n",
       "      <td id=\"T_3be6d_row5_col0\" class=\"data row5 col0\" >0.000000</td>\n",
       "    </tr>\n",
       "    <tr>\n",
       "      <th id=\"T_3be6d_level0_row6\" class=\"row_heading level0 row6\" >sales</th>\n",
       "      <td id=\"T_3be6d_row6_col0\" class=\"data row6 col0\" >0.000000</td>\n",
       "    </tr>\n",
       "  </tbody>\n",
       "</table>\n"
      ],
      "text/plain": [
       "<pandas.io.formats.style.Styler at 0x4100d336d0>"
      ]
     },
     "execution_count": 1313,
     "metadata": {},
     "output_type": "execute_result"
    }
   ],
   "source": [
    "#считаем пропуски\n",
    "pd.DataFrame(round((sales.isna().mean()*100),1)).style.background_gradient()"
   ]
  },
  {
   "cell_type": "markdown",
   "id": "8103e55e",
   "metadata": {},
   "source": [
    "Посмотрим на уникальные значения столбца business_unit."
   ]
  },
  {
   "cell_type": "code",
   "execution_count": 1314,
   "id": "f1e57c0e",
   "metadata": {},
   "outputs": [
    {
     "data": {
      "text/plain": [
       "array([nan, 'Speciality Business', 'Oncology'], dtype=object)"
      ]
     },
     "execution_count": 1314,
     "metadata": {},
     "output_type": "execute_result"
    }
   ],
   "source": [
    "sales['business_unit'].unique()"
   ]
  },
  {
   "cell_type": "markdown",
   "id": "f726a9d7",
   "metadata": {},
   "source": [
    "Проверим, пересекаются ли уникальные клиенты по значениям признака business_unit."
   ]
  },
  {
   "cell_type": "code",
   "execution_count": 1315,
   "id": "92ca786c",
   "metadata": {},
   "outputs": [
    {
     "data": {
      "text/html": [
       "<div>\n",
       "<style scoped>\n",
       "    .dataframe tbody tr th:only-of-type {\n",
       "        vertical-align: middle;\n",
       "    }\n",
       "\n",
       "    .dataframe tbody tr th {\n",
       "        vertical-align: top;\n",
       "    }\n",
       "\n",
       "    .dataframe thead th {\n",
       "        text-align: right;\n",
       "    }\n",
       "</style>\n",
       "<table border=\"1\" class=\"dataframe\">\n",
       "  <thead>\n",
       "    <tr style=\"text-align: right;\">\n",
       "      <th></th>\n",
       "      <th>customer</th>\n",
       "    </tr>\n",
       "    <tr>\n",
       "      <th>business_unit</th>\n",
       "      <th></th>\n",
       "    </tr>\n",
       "  </thead>\n",
       "  <tbody>\n",
       "    <tr>\n",
       "      <th>Oncology</th>\n",
       "      <td>30</td>\n",
       "    </tr>\n",
       "    <tr>\n",
       "      <th>Speciality Business</th>\n",
       "      <td>26</td>\n",
       "    </tr>\n",
       "  </tbody>\n",
       "</table>\n",
       "</div>"
      ],
      "text/plain": [
       "                     customer\n",
       "business_unit                \n",
       "Oncology                   30\n",
       "Speciality Business        26"
      ]
     },
     "execution_count": 1315,
     "metadata": {},
     "output_type": "execute_result"
    }
   ],
   "source": [
    "sales.groupby('business_unit').agg({'customer': 'nunique'}).query('customer>1')"
   ]
  },
  {
   "cell_type": "markdown",
   "id": "d1af9c20",
   "metadata": {},
   "source": [
    "Видим, что однозначного соответствия customer-business_unit нет, поэтому заполнить пропуски в business_unit согласно этой логике не получится. Также можно сделать предположение о характере пропусков в business_unit - скорее всего они относятся к типу MCAR (отсутствуют совершенно случайно), т.е. не зависят от наблюдаемых и ненаблюдаемых переменных. Удаление 45% строк с отсутствующими значениями в business_unit точно повлияет на результаты анализа, поэтому пропуски я заменю на unknow."
   ]
  },
  {
   "cell_type": "code",
   "execution_count": 1316,
   "id": "0172c45b",
   "metadata": {},
   "outputs": [],
   "source": [
    "#меняем пропуски в business_unit на unknow\n",
    "sales['business_unit'] = sales['business_unit'].fillna('unknow')"
   ]
  },
  {
   "cell_type": "code",
   "execution_count": 1317,
   "id": "0632329f",
   "metadata": {},
   "outputs": [
    {
     "data": {
      "text/html": [
       "<style type=\"text/css\">\n",
       "#T_6d457_row0_col0, #T_6d457_row1_col0, #T_6d457_row2_col0, #T_6d457_row3_col0, #T_6d457_row4_col0, #T_6d457_row5_col0, #T_6d457_row6_col0 {\n",
       "  background-color: #fff7fb;\n",
       "  color: #000000;\n",
       "}\n",
       "</style>\n",
       "<table id=\"T_6d457\">\n",
       "  <thead>\n",
       "    <tr>\n",
       "      <th class=\"blank level0\" >&nbsp;</th>\n",
       "      <th id=\"T_6d457_level0_col0\" class=\"col_heading level0 col0\" >0</th>\n",
       "    </tr>\n",
       "  </thead>\n",
       "  <tbody>\n",
       "    <tr>\n",
       "      <th id=\"T_6d457_level0_row0\" class=\"row_heading level0 row0\" >product_family</th>\n",
       "      <td id=\"T_6d457_row0_col0\" class=\"data row0 col0\" >0.000000</td>\n",
       "    </tr>\n",
       "    <tr>\n",
       "      <th id=\"T_6d457_level0_row1\" class=\"row_heading level0 row1\" >product</th>\n",
       "      <td id=\"T_6d457_row1_col0\" class=\"data row1 col0\" >0.000000</td>\n",
       "    </tr>\n",
       "    <tr>\n",
       "      <th id=\"T_6d457_level0_row2\" class=\"row_heading level0 row2\" >customer</th>\n",
       "      <td id=\"T_6d457_row2_col0\" class=\"data row2 col0\" >0.000000</td>\n",
       "    </tr>\n",
       "    <tr>\n",
       "      <th id=\"T_6d457_level0_row3\" class=\"row_heading level0 row3\" >business_unit</th>\n",
       "      <td id=\"T_6d457_row3_col0\" class=\"data row3 col0\" >0.000000</td>\n",
       "    </tr>\n",
       "    <tr>\n",
       "      <th id=\"T_6d457_level0_row4\" class=\"row_heading level0 row4\" >currency</th>\n",
       "      <td id=\"T_6d457_row4_col0\" class=\"data row4 col0\" >0.000000</td>\n",
       "    </tr>\n",
       "    <tr>\n",
       "      <th id=\"T_6d457_level0_row5\" class=\"row_heading level0 row5\" >date</th>\n",
       "      <td id=\"T_6d457_row5_col0\" class=\"data row5 col0\" >0.000000</td>\n",
       "    </tr>\n",
       "    <tr>\n",
       "      <th id=\"T_6d457_level0_row6\" class=\"row_heading level0 row6\" >sales</th>\n",
       "      <td id=\"T_6d457_row6_col0\" class=\"data row6 col0\" >0.000000</td>\n",
       "    </tr>\n",
       "  </tbody>\n",
       "</table>\n"
      ],
      "text/plain": [
       "<pandas.io.formats.style.Styler at 0x410125cc10>"
      ]
     },
     "execution_count": 1317,
     "metadata": {},
     "output_type": "execute_result"
    }
   ],
   "source": [
    "#проверяем\n",
    "pd.DataFrame(round((sales.isna().mean()*100),1)).style.background_gradient()"
   ]
  },
  {
   "cell_type": "markdown",
   "id": "bde3754d",
   "metadata": {},
   "source": [
    "#### Дубликаты"
   ]
  },
  {
   "cell_type": "code",
   "execution_count": 1318,
   "id": "737472b7",
   "metadata": {},
   "outputs": [
    {
     "data": {
      "text/plain": [
       "0"
      ]
     },
     "execution_count": 1318,
     "metadata": {},
     "output_type": "execute_result"
    }
   ],
   "source": [
    "#полные дубликаты\n",
    "sales.duplicated().sum()"
   ]
  },
  {
   "cell_type": "markdown",
   "id": "cda21b4a",
   "metadata": {},
   "source": [
    "Полные дубликаты отсутствует. Хочется посмотреть на дубликаты по сочетанию нескольких столбцов."
   ]
  },
  {
   "cell_type": "code",
   "execution_count": 1319,
   "id": "c6224cce",
   "metadata": {},
   "outputs": [
    {
     "data": {
      "text/html": [
       "<div>\n",
       "<style scoped>\n",
       "    .dataframe tbody tr th:only-of-type {\n",
       "        vertical-align: middle;\n",
       "    }\n",
       "\n",
       "    .dataframe tbody tr th {\n",
       "        vertical-align: top;\n",
       "    }\n",
       "\n",
       "    .dataframe thead th {\n",
       "        text-align: right;\n",
       "    }\n",
       "</style>\n",
       "<table border=\"1\" class=\"dataframe\">\n",
       "  <thead>\n",
       "    <tr style=\"text-align: right;\">\n",
       "      <th></th>\n",
       "      <th>product_family</th>\n",
       "      <th>product</th>\n",
       "      <th>customer</th>\n",
       "      <th>business_unit</th>\n",
       "      <th>currency</th>\n",
       "      <th>date</th>\n",
       "      <th>sales</th>\n",
       "    </tr>\n",
       "  </thead>\n",
       "  <tbody>\n",
       "  </tbody>\n",
       "</table>\n",
       "</div>"
      ],
      "text/plain": [
       "Empty DataFrame\n",
       "Columns: [product_family, product, customer, business_unit, currency, date, sales]\n",
       "Index: []"
      ]
     },
     "execution_count": 1319,
     "metadata": {},
     "output_type": "execute_result"
    }
   ],
   "source": [
    "sales[sales.duplicated(['product_family', 'product', 'customer', 'business_unit', 'currency', 'date'])]"
   ]
  },
  {
   "cell_type": "markdown",
   "id": "93dd13dd",
   "metadata": {},
   "source": [
    "Попробуем убрать валюту из этого сочетания."
   ]
  },
  {
   "cell_type": "code",
   "execution_count": 1320,
   "id": "31eb7e38",
   "metadata": {},
   "outputs": [
    {
     "data": {
      "text/html": [
       "<div>\n",
       "<style scoped>\n",
       "    .dataframe tbody tr th:only-of-type {\n",
       "        vertical-align: middle;\n",
       "    }\n",
       "\n",
       "    .dataframe tbody tr th {\n",
       "        vertical-align: top;\n",
       "    }\n",
       "\n",
       "    .dataframe thead th {\n",
       "        text-align: right;\n",
       "    }\n",
       "</style>\n",
       "<table border=\"1\" class=\"dataframe\">\n",
       "  <thead>\n",
       "    <tr style=\"text-align: right;\">\n",
       "      <th></th>\n",
       "      <th>product_family</th>\n",
       "      <th>product</th>\n",
       "      <th>customer</th>\n",
       "      <th>business_unit</th>\n",
       "      <th>currency</th>\n",
       "      <th>date</th>\n",
       "      <th>sales</th>\n",
       "    </tr>\n",
       "  </thead>\n",
       "  <tbody>\n",
       "    <tr>\n",
       "      <th>29</th>\n",
       "      <td>FAM1</td>\n",
       "      <td>Prd1</td>\n",
       "      <td>Cust1</td>\n",
       "      <td>unknow</td>\n",
       "      <td>M.RUB</td>\n",
       "      <td>2019-05-02</td>\n",
       "      <td>28072314</td>\n",
       "    </tr>\n",
       "    <tr>\n",
       "      <th>30</th>\n",
       "      <td>FAM1</td>\n",
       "      <td>Prd1</td>\n",
       "      <td>Cust1</td>\n",
       "      <td>unknow</td>\n",
       "      <td>M.RUB</td>\n",
       "      <td>2019-02-28</td>\n",
       "      <td>-1403616</td>\n",
       "    </tr>\n",
       "    <tr>\n",
       "      <th>31</th>\n",
       "      <td>FAM1</td>\n",
       "      <td>Prd1</td>\n",
       "      <td>Cust1</td>\n",
       "      <td>unknow</td>\n",
       "      <td>M.RUB</td>\n",
       "      <td>2019-03-29</td>\n",
       "      <td>1403616</td>\n",
       "    </tr>\n",
       "    <tr>\n",
       "      <th>32</th>\n",
       "      <td>FAM1</td>\n",
       "      <td>Prd1</td>\n",
       "      <td>Cust1</td>\n",
       "      <td>unknow</td>\n",
       "      <td>M.RUB</td>\n",
       "      <td>2019-03-31</td>\n",
       "      <td>-1403616</td>\n",
       "    </tr>\n",
       "    <tr>\n",
       "      <th>33</th>\n",
       "      <td>FAM1</td>\n",
       "      <td>Prd1</td>\n",
       "      <td>Cust1</td>\n",
       "      <td>unknow</td>\n",
       "      <td>M.RUB</td>\n",
       "      <td>2019-04-15</td>\n",
       "      <td>-1403616</td>\n",
       "    </tr>\n",
       "    <tr>\n",
       "      <th>...</th>\n",
       "      <td>...</td>\n",
       "      <td>...</td>\n",
       "      <td>...</td>\n",
       "      <td>...</td>\n",
       "      <td>...</td>\n",
       "      <td>...</td>\n",
       "      <td>...</td>\n",
       "    </tr>\n",
       "    <tr>\n",
       "      <th>5571</th>\n",
       "      <td>FAM24</td>\n",
       "      <td>Prd56</td>\n",
       "      <td>Cust37</td>\n",
       "      <td>unknow</td>\n",
       "      <td>M.RUB</td>\n",
       "      <td>2019-10-31</td>\n",
       "      <td>0</td>\n",
       "    </tr>\n",
       "    <tr>\n",
       "      <th>5572</th>\n",
       "      <td>FAM24</td>\n",
       "      <td>Prd56</td>\n",
       "      <td>Cust37</td>\n",
       "      <td>unknow</td>\n",
       "      <td>M.RUB</td>\n",
       "      <td>2019-11-30</td>\n",
       "      <td>0</td>\n",
       "    </tr>\n",
       "    <tr>\n",
       "      <th>5573</th>\n",
       "      <td>FAM24</td>\n",
       "      <td>Prd56</td>\n",
       "      <td>Cust37</td>\n",
       "      <td>unknow</td>\n",
       "      <td>M.RUB</td>\n",
       "      <td>2019-12-31</td>\n",
       "      <td>0</td>\n",
       "    </tr>\n",
       "    <tr>\n",
       "      <th>5574</th>\n",
       "      <td>FAM24</td>\n",
       "      <td>Prd56</td>\n",
       "      <td>Cust37</td>\n",
       "      <td>unknow</td>\n",
       "      <td>M.RUB</td>\n",
       "      <td>2020-01-31</td>\n",
       "      <td>0</td>\n",
       "    </tr>\n",
       "    <tr>\n",
       "      <th>5575</th>\n",
       "      <td>FAM24</td>\n",
       "      <td>Prd56</td>\n",
       "      <td>Cust37</td>\n",
       "      <td>unknow</td>\n",
       "      <td>M.RUB</td>\n",
       "      <td>2020-02-28</td>\n",
       "      <td>35791361</td>\n",
       "    </tr>\n",
       "  </tbody>\n",
       "</table>\n",
       "<p>2788 rows × 7 columns</p>\n",
       "</div>"
      ],
      "text/plain": [
       "     product_family product customer business_unit currency       date  \\\n",
       "29             FAM1    Prd1    Cust1        unknow    M.RUB 2019-05-02   \n",
       "30             FAM1    Prd1    Cust1        unknow    M.RUB 2019-02-28   \n",
       "31             FAM1    Prd1    Cust1        unknow    M.RUB 2019-03-29   \n",
       "32             FAM1    Prd1    Cust1        unknow    M.RUB 2019-03-31   \n",
       "33             FAM1    Prd1    Cust1        unknow    M.RUB 2019-04-15   \n",
       "...             ...     ...      ...           ...      ...        ...   \n",
       "5571          FAM24   Prd56   Cust37        unknow    M.RUB 2019-10-31   \n",
       "5572          FAM24   Prd56   Cust37        unknow    M.RUB 2019-11-30   \n",
       "5573          FAM24   Prd56   Cust37        unknow    M.RUB 2019-12-31   \n",
       "5574          FAM24   Prd56   Cust37        unknow    M.RUB 2020-01-31   \n",
       "5575          FAM24   Prd56   Cust37        unknow    M.RUB 2020-02-28   \n",
       "\n",
       "         sales  \n",
       "29    28072314  \n",
       "30    -1403616  \n",
       "31     1403616  \n",
       "32    -1403616  \n",
       "33    -1403616  \n",
       "...        ...  \n",
       "5571         0  \n",
       "5572         0  \n",
       "5573         0  \n",
       "5574         0  \n",
       "5575  35791361  \n",
       "\n",
       "[2788 rows x 7 columns]"
      ]
     },
     "execution_count": 1320,
     "metadata": {},
     "output_type": "execute_result"
    }
   ],
   "source": [
    "sales[sales.duplicated(['product_family', 'product', 'customer', 'business_unit', 'date'])]"
   ]
  },
  {
   "cell_type": "code",
   "execution_count": 1321,
   "id": "5a4c2d1b",
   "metadata": {},
   "outputs": [
    {
     "data": {
      "text/html": [
       "<div>\n",
       "<style scoped>\n",
       "    .dataframe tbody tr th:only-of-type {\n",
       "        vertical-align: middle;\n",
       "    }\n",
       "\n",
       "    .dataframe tbody tr th {\n",
       "        vertical-align: top;\n",
       "    }\n",
       "\n",
       "    .dataframe thead th {\n",
       "        text-align: right;\n",
       "    }\n",
       "</style>\n",
       "<table border=\"1\" class=\"dataframe\">\n",
       "  <thead>\n",
       "    <tr style=\"text-align: right;\">\n",
       "      <th></th>\n",
       "      <th>date</th>\n",
       "      <th>product_family</th>\n",
       "      <th>product</th>\n",
       "      <th>customer</th>\n",
       "      <th>sales</th>\n",
       "    </tr>\n",
       "  </thead>\n",
       "  <tbody>\n",
       "    <tr>\n",
       "      <th>0</th>\n",
       "      <td>2019-01-03</td>\n",
       "      <td>FAM10</td>\n",
       "      <td>Prd26</td>\n",
       "      <td>Cust34</td>\n",
       "      <td>2</td>\n",
       "    </tr>\n",
       "    <tr>\n",
       "      <th>1</th>\n",
       "      <td>2019-01-03</td>\n",
       "      <td>FAM10</td>\n",
       "      <td>Prd27</td>\n",
       "      <td>Cust34</td>\n",
       "      <td>2</td>\n",
       "    </tr>\n",
       "    <tr>\n",
       "      <th>2</th>\n",
       "      <td>2019-01-03</td>\n",
       "      <td>FAM11</td>\n",
       "      <td>Prd30</td>\n",
       "      <td>Cust24</td>\n",
       "      <td>2</td>\n",
       "    </tr>\n",
       "    <tr>\n",
       "      <th>3</th>\n",
       "      <td>2019-01-03</td>\n",
       "      <td>FAM11</td>\n",
       "      <td>Prd30</td>\n",
       "      <td>Cust27</td>\n",
       "      <td>2</td>\n",
       "    </tr>\n",
       "    <tr>\n",
       "      <th>4</th>\n",
       "      <td>2019-01-03</td>\n",
       "      <td>FAM11</td>\n",
       "      <td>Prd31</td>\n",
       "      <td>Cust27</td>\n",
       "      <td>2</td>\n",
       "    </tr>\n",
       "    <tr>\n",
       "      <th>...</th>\n",
       "      <td>...</td>\n",
       "      <td>...</td>\n",
       "      <td>...</td>\n",
       "      <td>...</td>\n",
       "      <td>...</td>\n",
       "    </tr>\n",
       "    <tr>\n",
       "      <th>2783</th>\n",
       "      <td>2020-12-03</td>\n",
       "      <td>FAM20</td>\n",
       "      <td>Prd48</td>\n",
       "      <td>Cust12</td>\n",
       "      <td>2</td>\n",
       "    </tr>\n",
       "    <tr>\n",
       "      <th>2784</th>\n",
       "      <td>2020-12-03</td>\n",
       "      <td>FAM20</td>\n",
       "      <td>Prd48</td>\n",
       "      <td>Cust23</td>\n",
       "      <td>2</td>\n",
       "    </tr>\n",
       "    <tr>\n",
       "      <th>2785</th>\n",
       "      <td>2020-12-03</td>\n",
       "      <td>FAM22</td>\n",
       "      <td>Prd53</td>\n",
       "      <td>Cust12</td>\n",
       "      <td>2</td>\n",
       "    </tr>\n",
       "    <tr>\n",
       "      <th>2786</th>\n",
       "      <td>2020-12-03</td>\n",
       "      <td>FAM6</td>\n",
       "      <td>Prd17</td>\n",
       "      <td>Cust12</td>\n",
       "      <td>2</td>\n",
       "    </tr>\n",
       "    <tr>\n",
       "      <th>2787</th>\n",
       "      <td>2020-12-05</td>\n",
       "      <td>FAM1</td>\n",
       "      <td>Prd5</td>\n",
       "      <td>Cust2</td>\n",
       "      <td>2</td>\n",
       "    </tr>\n",
       "  </tbody>\n",
       "</table>\n",
       "<p>2788 rows × 5 columns</p>\n",
       "</div>"
      ],
      "text/plain": [
       "           date product_family product customer  sales\n",
       "0    2019-01-03          FAM10   Prd26   Cust34      2\n",
       "1    2019-01-03          FAM10   Prd27   Cust34      2\n",
       "2    2019-01-03          FAM11   Prd30   Cust24      2\n",
       "3    2019-01-03          FAM11   Prd30   Cust27      2\n",
       "4    2019-01-03          FAM11   Prd31   Cust27      2\n",
       "...         ...            ...     ...      ...    ...\n",
       "2783 2020-12-03          FAM20   Prd48   Cust12      2\n",
       "2784 2020-12-03          FAM20   Prd48   Cust23      2\n",
       "2785 2020-12-03          FAM22   Prd53   Cust12      2\n",
       "2786 2020-12-03           FAM6   Prd17   Cust12      2\n",
       "2787 2020-12-05           FAM1    Prd5    Cust2      2\n",
       "\n",
       "[2788 rows x 5 columns]"
      ]
     },
     "execution_count": 1321,
     "metadata": {},
     "output_type": "execute_result"
    }
   ],
   "source": [
    "sales.groupby(['date','product_family','product','customer']).agg({'sales': 'count'}).reset_index()"
   ]
  },
  {
   "cell_type": "markdown",
   "id": "ec92cf98",
   "metadata": {},
   "source": [
    "Сразу получаем ровно половину строк-дублей по сочетанию столбцов 'date','product_family','product','customer'. И мы понимаем, что дело тут в currency. Посмотрим подробнее на несколько таких дубликатов."
   ]
  },
  {
   "cell_type": "code",
   "execution_count": 1322,
   "id": "12d79af9",
   "metadata": {},
   "outputs": [
    {
     "data": {
      "text/html": [
       "<div>\n",
       "<style scoped>\n",
       "    .dataframe tbody tr th:only-of-type {\n",
       "        vertical-align: middle;\n",
       "    }\n",
       "\n",
       "    .dataframe tbody tr th {\n",
       "        vertical-align: top;\n",
       "    }\n",
       "\n",
       "    .dataframe thead th {\n",
       "        text-align: right;\n",
       "    }\n",
       "</style>\n",
       "<table border=\"1\" class=\"dataframe\">\n",
       "  <thead>\n",
       "    <tr style=\"text-align: right;\">\n",
       "      <th></th>\n",
       "      <th>product_family</th>\n",
       "      <th>product</th>\n",
       "      <th>customer</th>\n",
       "      <th>business_unit</th>\n",
       "      <th>currency</th>\n",
       "      <th>date</th>\n",
       "      <th>sales</th>\n",
       "    </tr>\n",
       "  </thead>\n",
       "  <tbody>\n",
       "    <tr>\n",
       "      <th>1852</th>\n",
       "      <td>FAM10</td>\n",
       "      <td>Prd26</td>\n",
       "      <td>Cust34</td>\n",
       "      <td>Oncology</td>\n",
       "      <td>M.CHF</td>\n",
       "      <td>2019-01-03</td>\n",
       "      <td>1200</td>\n",
       "    </tr>\n",
       "    <tr>\n",
       "      <th>1858</th>\n",
       "      <td>FAM10</td>\n",
       "      <td>Prd26</td>\n",
       "      <td>Cust34</td>\n",
       "      <td>Oncology</td>\n",
       "      <td>M.RUB</td>\n",
       "      <td>2019-01-03</td>\n",
       "      <td>71058</td>\n",
       "    </tr>\n",
       "  </tbody>\n",
       "</table>\n",
       "</div>"
      ],
      "text/plain": [
       "     product_family product customer business_unit currency       date  sales\n",
       "1852          FAM10   Prd26   Cust34      Oncology    M.CHF 2019-01-03   1200\n",
       "1858          FAM10   Prd26   Cust34      Oncology    M.RUB 2019-01-03  71058"
      ]
     },
     "execution_count": 1322,
     "metadata": {},
     "output_type": "execute_result"
    }
   ],
   "source": [
    "sales.query('date==\"2019-01-03\" & product_family==\"FAM10\" & product==\"Prd26\" & customer==\"Cust34\"')"
   ]
  },
  {
   "cell_type": "code",
   "execution_count": 1323,
   "id": "aaf41f60",
   "metadata": {},
   "outputs": [
    {
     "data": {
      "text/html": [
       "<div>\n",
       "<style scoped>\n",
       "    .dataframe tbody tr th:only-of-type {\n",
       "        vertical-align: middle;\n",
       "    }\n",
       "\n",
       "    .dataframe tbody tr th {\n",
       "        vertical-align: top;\n",
       "    }\n",
       "\n",
       "    .dataframe thead th {\n",
       "        text-align: right;\n",
       "    }\n",
       "</style>\n",
       "<table border=\"1\" class=\"dataframe\">\n",
       "  <thead>\n",
       "    <tr style=\"text-align: right;\">\n",
       "      <th></th>\n",
       "      <th>product_family</th>\n",
       "      <th>product</th>\n",
       "      <th>customer</th>\n",
       "      <th>business_unit</th>\n",
       "      <th>currency</th>\n",
       "      <th>date</th>\n",
       "      <th>sales</th>\n",
       "    </tr>\n",
       "  </thead>\n",
       "  <tbody>\n",
       "    <tr>\n",
       "      <th>5410</th>\n",
       "      <td>FAM22</td>\n",
       "      <td>Prd53</td>\n",
       "      <td>Cust12</td>\n",
       "      <td>Speciality Business</td>\n",
       "      <td>M.CHF</td>\n",
       "      <td>2020-12-03</td>\n",
       "      <td>7503</td>\n",
       "    </tr>\n",
       "    <tr>\n",
       "      <th>5434</th>\n",
       "      <td>FAM22</td>\n",
       "      <td>Prd53</td>\n",
       "      <td>Cust12</td>\n",
       "      <td>Speciality Business</td>\n",
       "      <td>M.RUB</td>\n",
       "      <td>2020-12-03</td>\n",
       "      <td>481430</td>\n",
       "    </tr>\n",
       "  </tbody>\n",
       "</table>\n",
       "</div>"
      ],
      "text/plain": [
       "     product_family product customer        business_unit currency       date  \\\n",
       "5410          FAM22   Prd53   Cust12  Speciality Business    M.CHF 2020-12-03   \n",
       "5434          FAM22   Prd53   Cust12  Speciality Business    M.RUB 2020-12-03   \n",
       "\n",
       "       sales  \n",
       "5410    7503  \n",
       "5434  481430  "
      ]
     },
     "execution_count": 1323,
     "metadata": {},
     "output_type": "execute_result"
    }
   ],
   "source": [
    "sales.query('date==\"2020-12-03\" & product_family==\"FAM22\" & product==\"Prd53\" & customer==\"Cust12\"')"
   ]
  },
  {
   "cell_type": "code",
   "execution_count": 1324,
   "id": "f8654224",
   "metadata": {},
   "outputs": [
    {
     "name": "stdout",
     "output_type": "stream",
     "text": [
      "Курс швейцарского франка в январе 2019 г.: 59.215\n"
     ]
    }
   ],
   "source": [
    "print('Курс швейцарского франка в январе 2019 г.:', 71058/1200)"
   ]
  },
  {
   "cell_type": "code",
   "execution_count": 1325,
   "id": "dcb88aa4",
   "metadata": {},
   "outputs": [
    {
     "name": "stdout",
     "output_type": "stream",
     "text": [
      "Курс швейцарского франка в декабре 2020 г.: 64.1650006664001\n"
     ]
    }
   ],
   "source": [
    "print('Курс швейцарского франка в декабре 2020 г.:', 481430/7503)"
   ]
  },
  {
   "cell_type": "markdown",
   "id": "8b09e2e0",
   "metadata": {},
   "source": [
    "Похоже на то, что в Продажах мы имеем задвоение строк за счет дублирования информации о прадаже в другой валюте. Думаю, что для анализа будет достаточно оставить одну валюту, российский рубль, например."
   ]
  },
  {
   "cell_type": "code",
   "execution_count": 1326,
   "id": "dd843b19",
   "metadata": {},
   "outputs": [],
   "source": [
    "sales = sales.query('currency==\"M.RUB\"')"
   ]
  },
  {
   "cell_type": "code",
   "execution_count": 1327,
   "id": "8684b870",
   "metadata": {},
   "outputs": [
    {
     "name": "stdout",
     "output_type": "stream",
     "text": [
      "<class 'pandas.core.frame.DataFrame'>\n",
      "Int64Index: 2788 entries, 29 to 5575\n",
      "Data columns (total 7 columns):\n",
      " #   Column          Non-Null Count  Dtype         \n",
      "---  ------          --------------  -----         \n",
      " 0   product_family  2788 non-null   object        \n",
      " 1   product         2788 non-null   object        \n",
      " 2   customer        2788 non-null   object        \n",
      " 3   business_unit   2788 non-null   object        \n",
      " 4   currency        2788 non-null   object        \n",
      " 5   date            2788 non-null   datetime64[ns]\n",
      " 6   sales           2788 non-null   int64         \n",
      "dtypes: datetime64[ns](1), int64(1), object(5)\n",
      "memory usage: 174.2+ KB\n"
     ]
    }
   ],
   "source": [
    "sales.info()"
   ]
  },
  {
   "cell_type": "markdown",
   "id": "1f3d4d8f",
   "metadata": {},
   "source": [
    "#### Аномалии"
   ]
  },
  {
   "cell_type": "markdown",
   "id": "136d3fe5",
   "metadata": {},
   "source": [
    "Исследуем на аномальные значения единственный количественный признак в таблице Продаж - sales."
   ]
  },
  {
   "cell_type": "code",
   "execution_count": 1328,
   "id": "59287c61",
   "metadata": {
    "scrolled": true
   },
   "outputs": [
    {
     "data": {
      "image/png": "[encoded data removed]",
      "text/plain": [
       "<Figure size 1500x1000 with 1 Axes>"
      ]
     },
     "metadata": {},
     "output_type": "display_data"
    }
   ],
   "source": [
    "#график распределения \n",
    "warnings.filterwarnings('ignore') # отключаем предупреждения\n",
    "plt.figure(figsize=(15,10))\n",
    "sns.distplot(sales['sales'], color=\"#72AEEB\");"
   ]
  },
  {
   "cell_type": "code",
   "execution_count": 1329,
   "id": "77127fd7",
   "metadata": {},
   "outputs": [
    {
     "data": {
      "image/png": "[encoded data removed]",
      "text/plain": [
       "<Figure size 500x500 with 1 Axes>"
      ]
     },
     "metadata": {},
     "output_type": "display_data"
    }
   ],
   "source": [
    "#выбросы\n",
    "sales.boxplot('sales', figsize=(5,5));"
   ]
  },
  {
   "cell_type": "markdown",
   "id": "144f6dc3",
   "metadata": {},
   "source": [
    "Хочется принять за аномальные единичные продажи, равные 1.4 млрд., 0.8 млрд. и 0.6 млрд."
   ]
  },
  {
   "cell_type": "code",
   "execution_count": 1330,
   "id": "2f81489f",
   "metadata": {},
   "outputs": [],
   "source": [
    "sales = sales[sales['sales'] < 600000000]"
   ]
  },
  {
   "cell_type": "code",
   "execution_count": 1331,
   "id": "29a1d7af",
   "metadata": {},
   "outputs": [
    {
     "data": {
      "text/plain": [
       "503654377"
      ]
     },
     "execution_count": 1331,
     "metadata": {},
     "output_type": "execute_result"
    }
   ],
   "source": [
    "sales['sales'].max()"
   ]
  },
  {
   "cell_type": "code",
   "execution_count": 1332,
   "id": "e03529b5",
   "metadata": {},
   "outputs": [
    {
     "data": {
      "image/png": "[encoded data removed]",
      "text/plain": [
       "<Figure size 500x500 with 1 Axes>"
      ]
     },
     "metadata": {},
     "output_type": "display_data"
    }
   ],
   "source": [
    "sales.boxplot('sales', figsize=(5,5));"
   ]
  },
  {
   "cell_type": "markdown",
   "id": "c4545148",
   "metadata": {},
   "source": [
    "Кажется, что так распределение выглядит приличнее. "
   ]
  },
  {
   "cell_type": "markdown",
   "id": "b40ff3c2",
   "metadata": {},
   "source": [
    " #### Нулевые и отрицательные значения в sales"
   ]
  },
  {
   "cell_type": "code",
   "execution_count": 1333,
   "id": "eee7848e",
   "metadata": {},
   "outputs": [
    {
     "data": {
      "text/html": [
       "<div>\n",
       "<style scoped>\n",
       "    .dataframe tbody tr th:only-of-type {\n",
       "        vertical-align: middle;\n",
       "    }\n",
       "\n",
       "    .dataframe tbody tr th {\n",
       "        vertical-align: top;\n",
       "    }\n",
       "\n",
       "    .dataframe thead th {\n",
       "        text-align: right;\n",
       "    }\n",
       "</style>\n",
       "<table border=\"1\" class=\"dataframe\">\n",
       "  <thead>\n",
       "    <tr style=\"text-align: right;\">\n",
       "      <th></th>\n",
       "      <th>product_family</th>\n",
       "      <th>product</th>\n",
       "      <th>customer</th>\n",
       "      <th>business_unit</th>\n",
       "      <th>currency</th>\n",
       "      <th>date</th>\n",
       "      <th>sales</th>\n",
       "    </tr>\n",
       "  </thead>\n",
       "  <tbody>\n",
       "    <tr>\n",
       "      <th>30</th>\n",
       "      <td>FAM1</td>\n",
       "      <td>Prd1</td>\n",
       "      <td>Cust1</td>\n",
       "      <td>unknow</td>\n",
       "      <td>M.RUB</td>\n",
       "      <td>2019-02-28</td>\n",
       "      <td>-1403616</td>\n",
       "    </tr>\n",
       "    <tr>\n",
       "      <th>32</th>\n",
       "      <td>FAM1</td>\n",
       "      <td>Prd1</td>\n",
       "      <td>Cust1</td>\n",
       "      <td>unknow</td>\n",
       "      <td>M.RUB</td>\n",
       "      <td>2019-03-31</td>\n",
       "      <td>-1403616</td>\n",
       "    </tr>\n",
       "    <tr>\n",
       "      <th>33</th>\n",
       "      <td>FAM1</td>\n",
       "      <td>Prd1</td>\n",
       "      <td>Cust1</td>\n",
       "      <td>unknow</td>\n",
       "      <td>M.RUB</td>\n",
       "      <td>2019-04-15</td>\n",
       "      <td>-1403616</td>\n",
       "    </tr>\n",
       "    <tr>\n",
       "      <th>37</th>\n",
       "      <td>FAM1</td>\n",
       "      <td>Prd1</td>\n",
       "      <td>Cust1</td>\n",
       "      <td>unknow</td>\n",
       "      <td>M.RUB</td>\n",
       "      <td>2019-11-06</td>\n",
       "      <td>-3736986</td>\n",
       "    </tr>\n",
       "    <tr>\n",
       "      <th>39</th>\n",
       "      <td>FAM1</td>\n",
       "      <td>Prd1</td>\n",
       "      <td>Cust1</td>\n",
       "      <td>unknow</td>\n",
       "      <td>M.RUB</td>\n",
       "      <td>2019-06-25</td>\n",
       "      <td>-1437302</td>\n",
       "    </tr>\n",
       "    <tr>\n",
       "      <th>...</th>\n",
       "      <td>...</td>\n",
       "      <td>...</td>\n",
       "      <td>...</td>\n",
       "      <td>...</td>\n",
       "      <td>...</td>\n",
       "      <td>...</td>\n",
       "      <td>...</td>\n",
       "    </tr>\n",
       "    <tr>\n",
       "      <th>5534</th>\n",
       "      <td>FAM23</td>\n",
       "      <td>Prd55</td>\n",
       "      <td>Cust30</td>\n",
       "      <td>unknow</td>\n",
       "      <td>M.RUB</td>\n",
       "      <td>2020-02-28</td>\n",
       "      <td>-3525554</td>\n",
       "    </tr>\n",
       "    <tr>\n",
       "      <th>5537</th>\n",
       "      <td>FAM23</td>\n",
       "      <td>Prd55</td>\n",
       "      <td>Cust30</td>\n",
       "      <td>unknow</td>\n",
       "      <td>M.RUB</td>\n",
       "      <td>2020-04-30</td>\n",
       "      <td>-6765252</td>\n",
       "    </tr>\n",
       "    <tr>\n",
       "      <th>5543</th>\n",
       "      <td>FAM23</td>\n",
       "      <td>Prd55</td>\n",
       "      <td>Cust30</td>\n",
       "      <td>unknow</td>\n",
       "      <td>M.RUB</td>\n",
       "      <td>2020-07-31</td>\n",
       "      <td>-7051108</td>\n",
       "    </tr>\n",
       "    <tr>\n",
       "      <th>5563</th>\n",
       "      <td>FAM24</td>\n",
       "      <td>Prd56</td>\n",
       "      <td>Cust37</td>\n",
       "      <td>unknow</td>\n",
       "      <td>M.RUB</td>\n",
       "      <td>2019-03-31</td>\n",
       "      <td>-35799518</td>\n",
       "    </tr>\n",
       "    <tr>\n",
       "      <th>5568</th>\n",
       "      <td>FAM24</td>\n",
       "      <td>Prd56</td>\n",
       "      <td>Cust37</td>\n",
       "      <td>unknow</td>\n",
       "      <td>M.RUB</td>\n",
       "      <td>2019-08-30</td>\n",
       "      <td>-35799518</td>\n",
       "    </tr>\n",
       "  </tbody>\n",
       "</table>\n",
       "<p>203 rows × 7 columns</p>\n",
       "</div>"
      ],
      "text/plain": [
       "     product_family product customer business_unit currency       date  \\\n",
       "30             FAM1    Prd1    Cust1        unknow    M.RUB 2019-02-28   \n",
       "32             FAM1    Prd1    Cust1        unknow    M.RUB 2019-03-31   \n",
       "33             FAM1    Prd1    Cust1        unknow    M.RUB 2019-04-15   \n",
       "37             FAM1    Prd1    Cust1        unknow    M.RUB 2019-11-06   \n",
       "39             FAM1    Prd1    Cust1        unknow    M.RUB 2019-06-25   \n",
       "...             ...     ...      ...           ...      ...        ...   \n",
       "5534          FAM23   Prd55   Cust30        unknow    M.RUB 2020-02-28   \n",
       "5537          FAM23   Prd55   Cust30        unknow    M.RUB 2020-04-30   \n",
       "5543          FAM23   Prd55   Cust30        unknow    M.RUB 2020-07-31   \n",
       "5563          FAM24   Prd56   Cust37        unknow    M.RUB 2019-03-31   \n",
       "5568          FAM24   Prd56   Cust37        unknow    M.RUB 2019-08-30   \n",
       "\n",
       "         sales  \n",
       "30    -1403616  \n",
       "32    -1403616  \n",
       "33    -1403616  \n",
       "37    -3736986  \n",
       "39    -1437302  \n",
       "...        ...  \n",
       "5534  -3525554  \n",
       "5537  -6765252  \n",
       "5543  -7051108  \n",
       "5563 -35799518  \n",
       "5568 -35799518  \n",
       "\n",
       "[203 rows x 7 columns]"
      ]
     },
     "execution_count": 1333,
     "metadata": {},
     "output_type": "execute_result"
    }
   ],
   "source": [
    "sales.query('sales < 0')"
   ]
  },
  {
   "cell_type": "code",
   "execution_count": 1334,
   "id": "8920be03",
   "metadata": {},
   "outputs": [
    {
     "data": {
      "text/html": [
       "<div>\n",
       "<style scoped>\n",
       "    .dataframe tbody tr th:only-of-type {\n",
       "        vertical-align: middle;\n",
       "    }\n",
       "\n",
       "    .dataframe tbody tr th {\n",
       "        vertical-align: top;\n",
       "    }\n",
       "\n",
       "    .dataframe thead th {\n",
       "        text-align: right;\n",
       "    }\n",
       "</style>\n",
       "<table border=\"1\" class=\"dataframe\">\n",
       "  <thead>\n",
       "    <tr style=\"text-align: right;\">\n",
       "      <th></th>\n",
       "      <th>product_family</th>\n",
       "      <th>product</th>\n",
       "      <th>customer</th>\n",
       "      <th>business_unit</th>\n",
       "      <th>currency</th>\n",
       "      <th>date</th>\n",
       "      <th>sales</th>\n",
       "    </tr>\n",
       "  </thead>\n",
       "  <tbody>\n",
       "    <tr>\n",
       "      <th>44</th>\n",
       "      <td>FAM1</td>\n",
       "      <td>Prd1</td>\n",
       "      <td>Cust1</td>\n",
       "      <td>unknow</td>\n",
       "      <td>M.RUB</td>\n",
       "      <td>2019-10-28</td>\n",
       "      <td>0</td>\n",
       "    </tr>\n",
       "    <tr>\n",
       "      <th>46</th>\n",
       "      <td>FAM1</td>\n",
       "      <td>Prd1</td>\n",
       "      <td>Cust1</td>\n",
       "      <td>unknow</td>\n",
       "      <td>M.RUB</td>\n",
       "      <td>2019-11-30</td>\n",
       "      <td>0</td>\n",
       "    </tr>\n",
       "    <tr>\n",
       "      <th>48</th>\n",
       "      <td>FAM1</td>\n",
       "      <td>Prd1</td>\n",
       "      <td>Cust1</td>\n",
       "      <td>unknow</td>\n",
       "      <td>M.RUB</td>\n",
       "      <td>2020-01-31</td>\n",
       "      <td>0</td>\n",
       "    </tr>\n",
       "    <tr>\n",
       "      <th>49</th>\n",
       "      <td>FAM1</td>\n",
       "      <td>Prd1</td>\n",
       "      <td>Cust1</td>\n",
       "      <td>unknow</td>\n",
       "      <td>M.RUB</td>\n",
       "      <td>2020-02-28</td>\n",
       "      <td>0</td>\n",
       "    </tr>\n",
       "    <tr>\n",
       "      <th>54</th>\n",
       "      <td>FAM1</td>\n",
       "      <td>Prd1</td>\n",
       "      <td>Cust1</td>\n",
       "      <td>unknow</td>\n",
       "      <td>M.RUB</td>\n",
       "      <td>2020-05-20</td>\n",
       "      <td>0</td>\n",
       "    </tr>\n",
       "    <tr>\n",
       "      <th>...</th>\n",
       "      <td>...</td>\n",
       "      <td>...</td>\n",
       "      <td>...</td>\n",
       "      <td>...</td>\n",
       "      <td>...</td>\n",
       "      <td>...</td>\n",
       "      <td>...</td>\n",
       "    </tr>\n",
       "    <tr>\n",
       "      <th>5570</th>\n",
       "      <td>FAM24</td>\n",
       "      <td>Prd56</td>\n",
       "      <td>Cust37</td>\n",
       "      <td>unknow</td>\n",
       "      <td>M.RUB</td>\n",
       "      <td>2019-09-30</td>\n",
       "      <td>0</td>\n",
       "    </tr>\n",
       "    <tr>\n",
       "      <th>5571</th>\n",
       "      <td>FAM24</td>\n",
       "      <td>Prd56</td>\n",
       "      <td>Cust37</td>\n",
       "      <td>unknow</td>\n",
       "      <td>M.RUB</td>\n",
       "      <td>2019-10-31</td>\n",
       "      <td>0</td>\n",
       "    </tr>\n",
       "    <tr>\n",
       "      <th>5572</th>\n",
       "      <td>FAM24</td>\n",
       "      <td>Prd56</td>\n",
       "      <td>Cust37</td>\n",
       "      <td>unknow</td>\n",
       "      <td>M.RUB</td>\n",
       "      <td>2019-11-30</td>\n",
       "      <td>0</td>\n",
       "    </tr>\n",
       "    <tr>\n",
       "      <th>5573</th>\n",
       "      <td>FAM24</td>\n",
       "      <td>Prd56</td>\n",
       "      <td>Cust37</td>\n",
       "      <td>unknow</td>\n",
       "      <td>M.RUB</td>\n",
       "      <td>2019-12-31</td>\n",
       "      <td>0</td>\n",
       "    </tr>\n",
       "    <tr>\n",
       "      <th>5574</th>\n",
       "      <td>FAM24</td>\n",
       "      <td>Prd56</td>\n",
       "      <td>Cust37</td>\n",
       "      <td>unknow</td>\n",
       "      <td>M.RUB</td>\n",
       "      <td>2020-01-31</td>\n",
       "      <td>0</td>\n",
       "    </tr>\n",
       "  </tbody>\n",
       "</table>\n",
       "<p>165 rows × 7 columns</p>\n",
       "</div>"
      ],
      "text/plain": [
       "     product_family product customer business_unit currency       date  sales\n",
       "44             FAM1    Prd1    Cust1        unknow    M.RUB 2019-10-28      0\n",
       "46             FAM1    Prd1    Cust1        unknow    M.RUB 2019-11-30      0\n",
       "48             FAM1    Prd1    Cust1        unknow    M.RUB 2020-01-31      0\n",
       "49             FAM1    Prd1    Cust1        unknow    M.RUB 2020-02-28      0\n",
       "54             FAM1    Prd1    Cust1        unknow    M.RUB 2020-05-20      0\n",
       "...             ...     ...      ...           ...      ...        ...    ...\n",
       "5570          FAM24   Prd56   Cust37        unknow    M.RUB 2019-09-30      0\n",
       "5571          FAM24   Prd56   Cust37        unknow    M.RUB 2019-10-31      0\n",
       "5572          FAM24   Prd56   Cust37        unknow    M.RUB 2019-11-30      0\n",
       "5573          FAM24   Prd56   Cust37        unknow    M.RUB 2019-12-31      0\n",
       "5574          FAM24   Prd56   Cust37        unknow    M.RUB 2020-01-31      0\n",
       "\n",
       "[165 rows x 7 columns]"
      ]
     },
     "execution_count": 1334,
     "metadata": {},
     "output_type": "execute_result"
    }
   ],
   "source": [
    "sales.query('sales == 0')"
   ]
  },
  {
   "cell_type": "markdown",
   "id": "0ea2de64",
   "metadata": {},
   "source": [
    "Отрицательное значение в продажаж может означать возврат, а 0 - подарок (маркетинговую акцию), например. Пока что отмечу, что они есть и что нужно будет их учитывать в зависимости от расчитываемых метрик."
   ]
  },
  {
   "cell_type": "markdown",
   "id": "8f822917",
   "metadata": {},
   "source": [
    "### Пациенты"
   ]
  },
  {
   "cell_type": "code",
   "execution_count": 1335,
   "id": "70b770f8",
   "metadata": {},
   "outputs": [
    {
     "name": "stdout",
     "output_type": "stream",
     "text": [
      "<class 'pandas.core.frame.DataFrame'>\n",
      "RangeIndex: 3132 entries, 0 to 3131\n",
      "Data columns (total 6 columns):\n",
      " #   Column              Non-Null Count  Dtype         \n",
      "---  ------              --------------  -----         \n",
      " 0   Product Family      3132 non-null   object        \n",
      " 1   Product             3132 non-null   object        \n",
      " 2   Region EN           3132 non-null   object        \n",
      " 3   Territory EN        3132 non-null   object        \n",
      " 4   Date                3132 non-null   datetime64[ns]\n",
      " 5   Diagnosed Patients  3132 non-null   int64         \n",
      "dtypes: datetime64[ns](1), int64(1), object(4)\n",
      "memory usage: 146.9+ KB\n"
     ]
    }
   ],
   "source": [
    "#смотрим структуру таблицы\n",
    "patient_flow.info()"
   ]
  },
  {
   "cell_type": "code",
   "execution_count": 1336,
   "id": "75eb6ce6",
   "metadata": {},
   "outputs": [
    {
     "data": {
      "text/plain": [
       "Index(['product_family', 'product', 'region_EN', 'territory_EN', 'date',\n",
       "       'diagnosed_patients'],\n",
       "      dtype='object')"
      ]
     },
     "execution_count": 1336,
     "metadata": {},
     "output_type": "execute_result"
    }
   ],
   "source": [
    "#переименуем столбцы\n",
    "patient_flow = patient_flow.rename(columns={'Product Family': 'product_family', 'Product': 'product', 'Region EN': \n",
    "                                            'region_EN', 'Territory EN': 'territory_EN', 'Date': 'date', \n",
    "                                            'Diagnosed Patients': 'diagnosed_patients'})\n",
    "patient_flow.columns"
   ]
  },
  {
   "cell_type": "code",
   "execution_count": 1337,
   "id": "1076714a",
   "metadata": {},
   "outputs": [
    {
     "data": {
      "text/html": [
       "<div>\n",
       "<style scoped>\n",
       "    .dataframe tbody tr th:only-of-type {\n",
       "        vertical-align: middle;\n",
       "    }\n",
       "\n",
       "    .dataframe tbody tr th {\n",
       "        vertical-align: top;\n",
       "    }\n",
       "\n",
       "    .dataframe thead th {\n",
       "        text-align: right;\n",
       "    }\n",
       "</style>\n",
       "<table border=\"1\" class=\"dataframe\">\n",
       "  <thead>\n",
       "    <tr style=\"text-align: right;\">\n",
       "      <th></th>\n",
       "      <th>product_family</th>\n",
       "      <th>product</th>\n",
       "      <th>region_EN</th>\n",
       "      <th>territory_EN</th>\n",
       "      <th>date</th>\n",
       "      <th>diagnosed_patients</th>\n",
       "    </tr>\n",
       "  </thead>\n",
       "  <tbody>\n",
       "    <tr>\n",
       "      <th>0</th>\n",
       "      <td>FAM1</td>\n",
       "      <td>Prd2</td>\n",
       "      <td>Central</td>\n",
       "      <td>Voronezh Oblast</td>\n",
       "      <td>2020-04-14</td>\n",
       "      <td>1</td>\n",
       "    </tr>\n",
       "    <tr>\n",
       "      <th>1</th>\n",
       "      <td>FAM1</td>\n",
       "      <td>Prd2</td>\n",
       "      <td>E.Siberia &amp; Far East</td>\n",
       "      <td>Buryatia Republic</td>\n",
       "      <td>2019-07-16</td>\n",
       "      <td>1</td>\n",
       "    </tr>\n",
       "    <tr>\n",
       "      <th>2</th>\n",
       "      <td>FAM1</td>\n",
       "      <td>Prd2</td>\n",
       "      <td>E.Siberia &amp; Far East</td>\n",
       "      <td>Irkutsk Oblast</td>\n",
       "      <td>2019-03-18</td>\n",
       "      <td>1</td>\n",
       "    </tr>\n",
       "    <tr>\n",
       "      <th>3</th>\n",
       "      <td>FAM1</td>\n",
       "      <td>Prd2</td>\n",
       "      <td>E.Siberia &amp; Far East</td>\n",
       "      <td>Zabaykalsky Oblast</td>\n",
       "      <td>2019-05-18</td>\n",
       "      <td>1</td>\n",
       "    </tr>\n",
       "    <tr>\n",
       "      <th>4</th>\n",
       "      <td>FAM1</td>\n",
       "      <td>Prd2</td>\n",
       "      <td>Moscow</td>\n",
       "      <td>Moscow</td>\n",
       "      <td>2019-01-15</td>\n",
       "      <td>1</td>\n",
       "    </tr>\n",
       "    <tr>\n",
       "      <th>5</th>\n",
       "      <td>FAM1</td>\n",
       "      <td>Prd2</td>\n",
       "      <td>Moscow</td>\n",
       "      <td>Moscow</td>\n",
       "      <td>2019-03-21</td>\n",
       "      <td>1</td>\n",
       "    </tr>\n",
       "    <tr>\n",
       "      <th>6</th>\n",
       "      <td>FAM1</td>\n",
       "      <td>Prd2</td>\n",
       "      <td>Moscow</td>\n",
       "      <td>Moscow</td>\n",
       "      <td>2019-11-19</td>\n",
       "      <td>1</td>\n",
       "    </tr>\n",
       "    <tr>\n",
       "      <th>7</th>\n",
       "      <td>FAM1</td>\n",
       "      <td>Prd2</td>\n",
       "      <td>Moscow Region</td>\n",
       "      <td>Moscow Region</td>\n",
       "      <td>2019-01-14</td>\n",
       "      <td>1</td>\n",
       "    </tr>\n",
       "    <tr>\n",
       "      <th>8</th>\n",
       "      <td>FAM1</td>\n",
       "      <td>Prd2</td>\n",
       "      <td>Moscow Region</td>\n",
       "      <td>Moscow Region</td>\n",
       "      <td>2019-01-16</td>\n",
       "      <td>2</td>\n",
       "    </tr>\n",
       "    <tr>\n",
       "      <th>9</th>\n",
       "      <td>FAM1</td>\n",
       "      <td>Prd2</td>\n",
       "      <td>Moscow Region</td>\n",
       "      <td>Moscow Region</td>\n",
       "      <td>2019-05-14</td>\n",
       "      <td>1</td>\n",
       "    </tr>\n",
       "  </tbody>\n",
       "</table>\n",
       "</div>"
      ],
      "text/plain": [
       "  product_family product             region_EN        territory_EN       date  \\\n",
       "0           FAM1    Prd2               Central     Voronezh Oblast 2020-04-14   \n",
       "1           FAM1    Prd2  E.Siberia & Far East   Buryatia Republic 2019-07-16   \n",
       "2           FAM1    Prd2  E.Siberia & Far East      Irkutsk Oblast 2019-03-18   \n",
       "3           FAM1    Prd2  E.Siberia & Far East  Zabaykalsky Oblast 2019-05-18   \n",
       "4           FAM1    Prd2                Moscow              Moscow 2019-01-15   \n",
       "5           FAM1    Prd2                Moscow              Moscow 2019-03-21   \n",
       "6           FAM1    Prd2                Moscow              Moscow 2019-11-19   \n",
       "7           FAM1    Prd2         Moscow Region       Moscow Region 2019-01-14   \n",
       "8           FAM1    Prd2         Moscow Region       Moscow Region 2019-01-16   \n",
       "9           FAM1    Prd2         Moscow Region       Moscow Region 2019-05-14   \n",
       "\n",
       "   diagnosed_patients  \n",
       "0                   1  \n",
       "1                   1  \n",
       "2                   1  \n",
       "3                   1  \n",
       "4                   1  \n",
       "5                   1  \n",
       "6                   1  \n",
       "7                   1  \n",
       "8                   2  \n",
       "9                   1  "
      ]
     },
     "execution_count": 1337,
     "metadata": {},
     "output_type": "execute_result"
    }
   ],
   "source": [
    "#смотрим данные\n",
    "patient_flow.head(10)"
   ]
  },
  {
   "cell_type": "markdown",
   "id": "1a6f14c5",
   "metadata": {},
   "source": [
    "**Первичный обзор данных**: пропусков нет, тип данных соответствуют данным. "
   ]
  },
  {
   "cell_type": "markdown",
   "id": "3a0a9073",
   "metadata": {},
   "source": [
    "Посмотрим на категориальные признаки."
   ]
  },
  {
   "cell_type": "code",
   "execution_count": 1338,
   "id": "55f9b65d",
   "metadata": {},
   "outputs": [
    {
     "data": {
      "text/plain": [
       "array(['FAM1', 'FAM25', 'FAM26', 'FAM10', 'FAM8', 'FAM27'], dtype=object)"
      ]
     },
     "execution_count": 1338,
     "metadata": {},
     "output_type": "execute_result"
    }
   ],
   "source": [
    "patient_flow['product_family'].unique()"
   ]
  },
  {
   "cell_type": "code",
   "execution_count": 1339,
   "id": "e23db4be",
   "metadata": {},
   "outputs": [
    {
     "data": {
      "text/plain": [
       "array(['Prd2', 'Prd6', 'Prd63', 'Prd20', 'Prd21', 'Prd57', 'Prd58',\n",
       "       'Prd59', 'Prd60', 'Prd61', 'Prd62'], dtype=object)"
      ]
     },
     "execution_count": 1339,
     "metadata": {},
     "output_type": "execute_result"
    }
   ],
   "source": [
    "patient_flow['product'].unique()"
   ]
  },
  {
   "cell_type": "markdown",
   "id": "7ba1ce7e",
   "metadata": {},
   "source": [
    "Признаки product_family и product в Продажах и в Пациентах пересекаются не в полном объеме. "
   ]
  },
  {
   "cell_type": "code",
   "execution_count": 1340,
   "id": "7bfcda12",
   "metadata": {},
   "outputs": [
    {
     "data": {
      "text/html": [
       "<div>\n",
       "<style scoped>\n",
       "    .dataframe tbody tr th:only-of-type {\n",
       "        vertical-align: middle;\n",
       "    }\n",
       "\n",
       "    .dataframe tbody tr th {\n",
       "        vertical-align: top;\n",
       "    }\n",
       "\n",
       "    .dataframe thead th {\n",
       "        text-align: right;\n",
       "    }\n",
       "</style>\n",
       "<table border=\"1\" class=\"dataframe\">\n",
       "  <thead>\n",
       "    <tr style=\"text-align: right;\">\n",
       "      <th></th>\n",
       "      <th>product_family</th>\n",
       "      <th>product</th>\n",
       "    </tr>\n",
       "  </thead>\n",
       "  <tbody>\n",
       "    <tr>\n",
       "      <th>0</th>\n",
       "      <td>FAM27</td>\n",
       "      <td>7</td>\n",
       "    </tr>\n",
       "    <tr>\n",
       "      <th>1</th>\n",
       "      <td>FAM1</td>\n",
       "      <td>2</td>\n",
       "    </tr>\n",
       "    <tr>\n",
       "      <th>2</th>\n",
       "      <td>FAM10</td>\n",
       "      <td>1</td>\n",
       "    </tr>\n",
       "    <tr>\n",
       "      <th>3</th>\n",
       "      <td>FAM25</td>\n",
       "      <td>1</td>\n",
       "    </tr>\n",
       "    <tr>\n",
       "      <th>4</th>\n",
       "      <td>FAM26</td>\n",
       "      <td>1</td>\n",
       "    </tr>\n",
       "    <tr>\n",
       "      <th>5</th>\n",
       "      <td>FAM8</td>\n",
       "      <td>1</td>\n",
       "    </tr>\n",
       "  </tbody>\n",
       "</table>\n",
       "</div>"
      ],
      "text/plain": [
       "  product_family  product\n",
       "0          FAM27        7\n",
       "1           FAM1        2\n",
       "2          FAM10        1\n",
       "3          FAM25        1\n",
       "4          FAM26        1\n",
       "5           FAM8        1"
      ]
     },
     "execution_count": 1340,
     "metadata": {},
     "output_type": "execute_result"
    }
   ],
   "source": [
    "patient_flow.groupby('product_family').agg({'product':'nunique'}).sort_values('product', ascending=False).reset_index()"
   ]
  },
  {
   "cell_type": "markdown",
   "id": "897dbb13",
   "metadata": {},
   "source": [
    "Так же, как и в Продажах, в Пациентах одному значению product_family может соответствовать несколько значений product"
   ]
  },
  {
   "cell_type": "code",
   "execution_count": 1341,
   "id": "b80dd907",
   "metadata": {},
   "outputs": [
    {
     "data": {
      "text/plain": [
       "array(['Central', 'E.Siberia & Far East', 'Moscow', 'Moscow Region',\n",
       "       'North-West', 'Southern', 'Ural & W.Siberia', 'Volga'],\n",
       "      dtype=object)"
      ]
     },
     "execution_count": 1341,
     "metadata": {},
     "output_type": "execute_result"
    }
   ],
   "source": [
    "patient_flow['region_EN'].unique()"
   ]
  },
  {
   "cell_type": "code",
   "execution_count": 1342,
   "id": "eee03b01",
   "metadata": {},
   "outputs": [
    {
     "data": {
      "text/plain": [
       "8"
      ]
     },
     "execution_count": 1342,
     "metadata": {},
     "output_type": "execute_result"
    }
   ],
   "source": [
    "patient_flow['region_EN'].nunique()"
   ]
  },
  {
   "cell_type": "markdown",
   "id": "109796fe",
   "metadata": {},
   "source": [
    "В region_EN имеем 8 уникальных значений, неявных дубликатов нет."
   ]
  },
  {
   "cell_type": "code",
   "execution_count": 1343,
   "id": "423ed75f",
   "metadata": {},
   "outputs": [
    {
     "data": {
      "text/plain": [
       "array(['Voronezh Oblast', 'Buryatia Republic', 'Irkutsk Oblast',\n",
       "       'Zabaykalsky Oblast', 'Moscow', 'Moscow Region',\n",
       "       'Karelia Republic', 'Saint Petersburg', 'Adygea Republic',\n",
       "       'Astrakhan Oblast', 'Chechen Republic', 'Crimea Republic',\n",
       "       'Dagestan Republic', 'Ingushetia Republic',\n",
       "       'Kabardino-Balkar Republic', 'Krasnodar Oblast',\n",
       "       'North Ossetia Republic', 'Rostov Oblast', 'Stavropol Oblast',\n",
       "       'Volgograd Oblast', 'Chelyabinsk Oblast', 'Kurgan Oblast',\n",
       "       'Omsk Oblast', 'Tyumen Oblast', 'Chuvash Republic',\n",
       "       'Nizhny Novgorod Oblast', 'Perm Oblast', 'Saratov Oblast',\n",
       "       'Tatarstan Republic', 'Udmurt Republic', 'Belgorod Oblast',\n",
       "       'Ivanovo Oblast', 'Kostroma Oblast', 'Tambov Oblast',\n",
       "       'Krasnoyarsk Oblast', 'Novosibirsk Oblast', 'Arkhangelsk Oblast',\n",
       "       'Komi Republic', 'Murmansk Oblast', 'Pskov Oblast',\n",
       "       'Bashkortostan Republic', 'Kirov Oblast', 'Orenburg Oblast',\n",
       "       'Samara Oblast', 'Kursk Oblast', 'Tula Oblast', 'Amur Oblast',\n",
       "       'Khabarovsk Oblast', 'Primorsky Oblast', 'Novgorod Oblast',\n",
       "       'Sevastopol', 'Kemerovo Oblast', 'Kaluga Oblast', 'Lipetsk Oblast',\n",
       "       'Oryol Oblast', 'Tver Oblast', 'Vladimir Oblast',\n",
       "       'Yaroslavl Oblast', 'Khakassia', 'Magadan Oblast',\n",
       "       'Sakha Republic', 'Vologda Oblast', 'Kalmykia Republic',\n",
       "       'Karachay-Cherkess Republic', 'Altai Oblast',\n",
       "       'Khanty-Mansi Autonomous Okrug', 'Sverdlovsk Oblast',\n",
       "       'Tomsk Oblast', 'Yamalo-Nenets Autonomous Okrug',\n",
       "       'Mari El Republic', 'Ryazan Oblast', 'Smolensk Oblast',\n",
       "       'Sakhalin Oblast', 'Kaliningrad Oblast', 'Nenets Autonomous Okrug',\n",
       "       'Mordovia Republic', 'Penza Oblast', 'Ulyanovsk Oblast',\n",
       "       'Kamchatka Oblast', 'Jewish Autonomous Oblast', 'Tyva Republic',\n",
       "       'Bryansk Oblast'], dtype=object)"
      ]
     },
     "execution_count": 1343,
     "metadata": {},
     "output_type": "execute_result"
    }
   ],
   "source": [
    "patient_flow['territory_EN'].unique()"
   ]
  },
  {
   "cell_type": "code",
   "execution_count": 1344,
   "id": "7268e7bd",
   "metadata": {},
   "outputs": [
    {
     "data": {
      "text/plain": [
       "82"
      ]
     },
     "execution_count": 1344,
     "metadata": {},
     "output_type": "execute_result"
    }
   ],
   "source": [
    "patient_flow['territory_EN'].nunique()"
   ]
  },
  {
   "cell_type": "markdown",
   "id": "a1bd842c",
   "metadata": {},
   "source": [
    "В territory_EN 82 территории, неявных дубликатов нет."
   ]
  },
  {
   "cell_type": "markdown",
   "id": "bcdc509b",
   "metadata": {},
   "source": [
    "#### Дубликаты"
   ]
  },
  {
   "cell_type": "code",
   "execution_count": 1345,
   "id": "23cdf1dd",
   "metadata": {},
   "outputs": [
    {
     "data": {
      "text/plain": [
       "68"
      ]
     },
     "execution_count": 1345,
     "metadata": {},
     "output_type": "execute_result"
    }
   ],
   "source": [
    "#полные дубликаты\n",
    "patient_flow.duplicated().sum()"
   ]
  },
  {
   "cell_type": "code",
   "execution_count": 1346,
   "id": "577ebe57",
   "metadata": {},
   "outputs": [
    {
     "data": {
      "text/html": [
       "<div>\n",
       "<style scoped>\n",
       "    .dataframe tbody tr th:only-of-type {\n",
       "        vertical-align: middle;\n",
       "    }\n",
       "\n",
       "    .dataframe tbody tr th {\n",
       "        vertical-align: top;\n",
       "    }\n",
       "\n",
       "    .dataframe thead th {\n",
       "        text-align: right;\n",
       "    }\n",
       "</style>\n",
       "<table border=\"1\" class=\"dataframe\">\n",
       "  <thead>\n",
       "    <tr style=\"text-align: right;\">\n",
       "      <th></th>\n",
       "      <th>product_family</th>\n",
       "      <th>product</th>\n",
       "      <th>region_EN</th>\n",
       "      <th>territory_EN</th>\n",
       "      <th>date</th>\n",
       "      <th>diagnosed_patients</th>\n",
       "    </tr>\n",
       "  </thead>\n",
       "  <tbody>\n",
       "    <tr>\n",
       "      <th>0</th>\n",
       "      <td>FAM1</td>\n",
       "      <td>Prd2</td>\n",
       "      <td>Central</td>\n",
       "      <td>Voronezh Oblast</td>\n",
       "      <td>2020-04-14</td>\n",
       "      <td>1</td>\n",
       "    </tr>\n",
       "    <tr>\n",
       "      <th>1</th>\n",
       "      <td>FAM1</td>\n",
       "      <td>Prd2</td>\n",
       "      <td>E.Siberia &amp; Far East</td>\n",
       "      <td>Buryatia Republic</td>\n",
       "      <td>2019-07-16</td>\n",
       "      <td>1</td>\n",
       "    </tr>\n",
       "    <tr>\n",
       "      <th>2</th>\n",
       "      <td>FAM1</td>\n",
       "      <td>Prd2</td>\n",
       "      <td>E.Siberia &amp; Far East</td>\n",
       "      <td>Irkutsk Oblast</td>\n",
       "      <td>2019-03-18</td>\n",
       "      <td>1</td>\n",
       "    </tr>\n",
       "    <tr>\n",
       "      <th>3</th>\n",
       "      <td>FAM1</td>\n",
       "      <td>Prd2</td>\n",
       "      <td>E.Siberia &amp; Far East</td>\n",
       "      <td>Zabaykalsky Oblast</td>\n",
       "      <td>2019-05-18</td>\n",
       "      <td>1</td>\n",
       "    </tr>\n",
       "    <tr>\n",
       "      <th>4</th>\n",
       "      <td>FAM1</td>\n",
       "      <td>Prd2</td>\n",
       "      <td>Moscow</td>\n",
       "      <td>Moscow</td>\n",
       "      <td>2019-01-15</td>\n",
       "      <td>1</td>\n",
       "    </tr>\n",
       "    <tr>\n",
       "      <th>...</th>\n",
       "      <td>...</td>\n",
       "      <td>...</td>\n",
       "      <td>...</td>\n",
       "      <td>...</td>\n",
       "      <td>...</td>\n",
       "      <td>...</td>\n",
       "    </tr>\n",
       "    <tr>\n",
       "      <th>3127</th>\n",
       "      <td>FAM27</td>\n",
       "      <td>Prd63</td>\n",
       "      <td>Volga</td>\n",
       "      <td>Tatarstan Republic</td>\n",
       "      <td>2020-05-19</td>\n",
       "      <td>1</td>\n",
       "    </tr>\n",
       "    <tr>\n",
       "      <th>3128</th>\n",
       "      <td>FAM27</td>\n",
       "      <td>Prd63</td>\n",
       "      <td>Volga</td>\n",
       "      <td>Tatarstan Republic</td>\n",
       "      <td>2020-06-01</td>\n",
       "      <td>2</td>\n",
       "    </tr>\n",
       "    <tr>\n",
       "      <th>3129</th>\n",
       "      <td>FAM27</td>\n",
       "      <td>Prd63</td>\n",
       "      <td>Volga</td>\n",
       "      <td>Udmurt Republic</td>\n",
       "      <td>2020-05-06</td>\n",
       "      <td>1</td>\n",
       "    </tr>\n",
       "    <tr>\n",
       "      <th>3130</th>\n",
       "      <td>FAM27</td>\n",
       "      <td>Prd63</td>\n",
       "      <td>Volga</td>\n",
       "      <td>Udmurt Republic</td>\n",
       "      <td>2020-05-19</td>\n",
       "      <td>1</td>\n",
       "    </tr>\n",
       "    <tr>\n",
       "      <th>3131</th>\n",
       "      <td>FAM27</td>\n",
       "      <td>Prd63</td>\n",
       "      <td>Volga</td>\n",
       "      <td>Udmurt Republic</td>\n",
       "      <td>2020-06-03</td>\n",
       "      <td>1</td>\n",
       "    </tr>\n",
       "  </tbody>\n",
       "</table>\n",
       "<p>3064 rows × 6 columns</p>\n",
       "</div>"
      ],
      "text/plain": [
       "     product_family product             region_EN        territory_EN  \\\n",
       "0              FAM1    Prd2               Central     Voronezh Oblast   \n",
       "1              FAM1    Prd2  E.Siberia & Far East   Buryatia Republic   \n",
       "2              FAM1    Prd2  E.Siberia & Far East      Irkutsk Oblast   \n",
       "3              FAM1    Prd2  E.Siberia & Far East  Zabaykalsky Oblast   \n",
       "4              FAM1    Prd2                Moscow              Moscow   \n",
       "...             ...     ...                   ...                 ...   \n",
       "3127          FAM27   Prd63                 Volga  Tatarstan Republic   \n",
       "3128          FAM27   Prd63                 Volga  Tatarstan Republic   \n",
       "3129          FAM27   Prd63                 Volga     Udmurt Republic   \n",
       "3130          FAM27   Prd63                 Volga     Udmurt Republic   \n",
       "3131          FAM27   Prd63                 Volga     Udmurt Republic   \n",
       "\n",
       "           date  diagnosed_patients  \n",
       "0    2020-04-14                   1  \n",
       "1    2019-07-16                   1  \n",
       "2    2019-03-18                   1  \n",
       "3    2019-05-18                   1  \n",
       "4    2019-01-15                   1  \n",
       "...         ...                 ...  \n",
       "3127 2020-05-19                   1  \n",
       "3128 2020-06-01                   2  \n",
       "3129 2020-05-06                   1  \n",
       "3130 2020-05-19                   1  \n",
       "3131 2020-06-03                   1  \n",
       "\n",
       "[3064 rows x 6 columns]"
      ]
     },
     "execution_count": 1346,
     "metadata": {},
     "output_type": "execute_result"
    }
   ],
   "source": [
    "#удаляем\n",
    "patient_flow.drop_duplicates()"
   ]
  },
  {
   "cell_type": "markdown",
   "id": "b89fcc49",
   "metadata": {},
   "source": [
    " ## EDA"
   ]
  },
  {
   "cell_type": "markdown",
   "id": "e09b228b",
   "metadata": {},
   "source": [
    "Начнем исследования с продуктов. Посмотрим на объемы \"движения\" продуктов общее, нулевое и возвратное."
   ]
  },
  {
   "cell_type": "code",
   "execution_count": 1347,
   "id": "b5b7cee1",
   "metadata": {},
   "outputs": [
    {
     "data": {
      "image/png": "[encoded data removed]",
      "text/plain": [
       "<Figure size 2000x2000 with 1 Axes>"
      ]
     },
     "metadata": {},
     "output_type": "display_data"
    }
   ],
   "source": [
    "#количество проводок\n",
    "plt.figure(figsize=(20,20))\n",
    "ax = sns.countplot(y = 'product', data = sales)\n",
    "ax.bar_label(ax.containers[0])\n",
    "plt.title(\"Общее количество проводок по продуктам\");"
   ]
  },
  {
   "cell_type": "code",
   "execution_count": 1348,
   "id": "7fddc27a",
   "metadata": {},
   "outputs": [
    {
     "data": {
      "image/png": "[encoded data removed]",
      "text/plain": [
       "<Figure size 2000x2000 with 1 Axes>"
      ]
     },
     "metadata": {},
     "output_type": "display_data"
    }
   ],
   "source": [
    "#количество продаж\n",
    "plt.figure(figsize=(20,20))\n",
    "ax = sns.countplot(y = 'product', data = sales[sales['sales']>0])\n",
    "ax.bar_label(ax.containers[0])\n",
    "plt.title(\"Количество продаж по продуктам\");"
   ]
  },
  {
   "cell_type": "code",
   "execution_count": 1349,
   "id": "f48ba0f7",
   "metadata": {},
   "outputs": [
    {
     "data": {
      "image/png": "[encoded data removed]",
      "text/plain": [
       "<Figure size 2000x1000 with 1 Axes>"
      ]
     },
     "metadata": {},
     "output_type": "display_data"
    }
   ],
   "source": [
    "#количество нулевых проводок\n",
    "plt.figure(figsize=(20,10))\n",
    "ax = sns.countplot(y = 'product', data = sales[sales['sales']==0])\n",
    "ax.bar_label(ax.containers[0])\n",
    "plt.title(\"Количество 'нулевых' продаж по продуктам\");"
   ]
  },
  {
   "cell_type": "code",
   "execution_count": 1350,
   "id": "eb51c7fa",
   "metadata": {},
   "outputs": [
    {
     "data": {
      "image/png": "[encoded data removed]",
      "text/plain": [
       "<Figure size 2000x1000 with 1 Axes>"
      ]
     },
     "metadata": {},
     "output_type": "display_data"
    }
   ],
   "source": [
    "#количество возвратных проводок\n",
    "plt.figure(figsize=(20,10))\n",
    "ax = sns.countplot(y = 'product', data = sales[sales['sales']<0])\n",
    "ax.bar_label(ax.containers[0])\n",
    "plt.title(\"Количество 'отрицательных' продаж по продуктам\");"
   ]
  },
  {
   "cell_type": "markdown",
   "id": "6286c4b1",
   "metadata": {},
   "source": [
    "Первое, что \"бросается\" в вывод: Prd17 - больше всего продаж, нет возвратов и одна нулевая проводка. Или, например, лидер по нулевым \"продажам\"(25 шт.) - Prd9 - имеет 44 продажи и 14 возвратов. Лидер по возвратам(15 шт.) - Prd36 - имеет всего 17 продаж и 5 нулевых продаж."
   ]
  },
  {
   "cell_type": "markdown",
   "id": "547e12fa",
   "metadata": {},
   "source": [
    "Перейдем к клиентам, посчитаем частоту покупок каждого, предварительно убрав нулевые и отрицательные."
   ]
  },
  {
   "cell_type": "code",
   "execution_count": 1351,
   "id": "8b98011b",
   "metadata": {},
   "outputs": [
    {
     "data": {
      "text/plain": [
       "Cust12    416\n",
       "Cust29    334\n",
       "Cust27    273\n",
       "Cust3     247\n",
       "Cust23    161\n",
       "Cust5     119\n",
       "Cust30    103\n",
       "Cust17     96\n",
       "Cust7      92\n",
       "Cust9      84\n",
       "Cust6      77\n",
       "Cust28     61\n",
       "Cust24     49\n",
       "Cust10     48\n",
       "Cust4      45\n",
       "Cust1      32\n",
       "Cust11     32\n",
       "Cust25     31\n",
       "Cust26     30\n",
       "Cust34     20\n",
       "Cust35     18\n",
       "Cust31     17\n",
       "Cust2      14\n",
       "Cust15      8\n",
       "Cust8       5\n",
       "Cust37      3\n",
       "Cust18      2\n",
       "Name: customer, dtype: int64"
      ]
     },
     "execution_count": 1351,
     "metadata": {},
     "output_type": "execute_result"
    }
   ],
   "source": [
    "frequence = sales.query('sales>0')['customer'].value_counts()\n",
    "frequence"
   ]
  },
  {
   "cell_type": "code",
   "execution_count": 1352,
   "id": "35722ebf",
   "metadata": {},
   "outputs": [
    {
     "data": {
      "text/html": [
       "<div>\n",
       "<style scoped>\n",
       "    .dataframe tbody tr th:only-of-type {\n",
       "        vertical-align: middle;\n",
       "    }\n",
       "\n",
       "    .dataframe tbody tr th {\n",
       "        vertical-align: top;\n",
       "    }\n",
       "\n",
       "    .dataframe thead th {\n",
       "        text-align: right;\n",
       "    }\n",
       "</style>\n",
       "<table border=\"1\" class=\"dataframe\">\n",
       "  <thead>\n",
       "    <tr style=\"text-align: right;\">\n",
       "      <th></th>\n",
       "      <th>customer</th>\n",
       "      <th>frequence</th>\n",
       "    </tr>\n",
       "  </thead>\n",
       "  <tbody>\n",
       "    <tr>\n",
       "      <th>0</th>\n",
       "      <td>Cust12</td>\n",
       "      <td>416</td>\n",
       "    </tr>\n",
       "    <tr>\n",
       "      <th>1</th>\n",
       "      <td>Cust29</td>\n",
       "      <td>334</td>\n",
       "    </tr>\n",
       "    <tr>\n",
       "      <th>2</th>\n",
       "      <td>Cust27</td>\n",
       "      <td>273</td>\n",
       "    </tr>\n",
       "    <tr>\n",
       "      <th>3</th>\n",
       "      <td>Cust3</td>\n",
       "      <td>247</td>\n",
       "    </tr>\n",
       "    <tr>\n",
       "      <th>4</th>\n",
       "      <td>Cust23</td>\n",
       "      <td>161</td>\n",
       "    </tr>\n",
       "  </tbody>\n",
       "</table>\n",
       "</div>"
      ],
      "text/plain": [
       "  customer  frequence\n",
       "0   Cust12        416\n",
       "1   Cust29        334\n",
       "2   Cust27        273\n",
       "3    Cust3        247\n",
       "4   Cust23        161"
      ]
     },
     "execution_count": 1352,
     "metadata": {},
     "output_type": "execute_result"
    }
   ],
   "source": [
    "frequence = pd.DataFrame({'customer':frequence.index,'frequence':frequence.values})\n",
    "frequence.head()"
   ]
  },
  {
   "cell_type": "markdown",
   "id": "860b8fc0",
   "metadata": {},
   "source": [
    "Найдем общую сумму заказов по каждому клиенту (LTV по общему доходу):"
   ]
  },
  {
   "cell_type": "code",
   "execution_count": 1353,
   "id": "f7518278",
   "metadata": {},
   "outputs": [
    {
     "data": {
      "text/html": [
       "<div>\n",
       "<style scoped>\n",
       "    .dataframe tbody tr th:only-of-type {\n",
       "        vertical-align: middle;\n",
       "    }\n",
       "\n",
       "    .dataframe tbody tr th {\n",
       "        vertical-align: top;\n",
       "    }\n",
       "\n",
       "    .dataframe thead th {\n",
       "        text-align: right;\n",
       "    }\n",
       "</style>\n",
       "<table border=\"1\" class=\"dataframe\">\n",
       "  <thead>\n",
       "    <tr style=\"text-align: right;\">\n",
       "      <th></th>\n",
       "      <th>customer</th>\n",
       "      <th>sales</th>\n",
       "    </tr>\n",
       "  </thead>\n",
       "  <tbody>\n",
       "    <tr>\n",
       "      <th>23</th>\n",
       "      <td>Cust30</td>\n",
       "      <td>2000120107</td>\n",
       "    </tr>\n",
       "    <tr>\n",
       "      <th>0</th>\n",
       "      <td>Cust1</td>\n",
       "      <td>1880878979</td>\n",
       "    </tr>\n",
       "    <tr>\n",
       "      <th>3</th>\n",
       "      <td>Cust12</td>\n",
       "      <td>1766931447</td>\n",
       "    </tr>\n",
       "    <tr>\n",
       "      <th>19</th>\n",
       "      <td>Cust27</td>\n",
       "      <td>648497031</td>\n",
       "    </tr>\n",
       "    <tr>\n",
       "      <th>21</th>\n",
       "      <td>Cust29</td>\n",
       "      <td>520255114</td>\n",
       "    </tr>\n",
       "    <tr>\n",
       "      <th>15</th>\n",
       "      <td>Cust23</td>\n",
       "      <td>481769577</td>\n",
       "    </tr>\n",
       "    <tr>\n",
       "      <th>22</th>\n",
       "      <td>Cust3</td>\n",
       "      <td>318230675</td>\n",
       "    </tr>\n",
       "    <tr>\n",
       "      <th>34</th>\n",
       "      <td>Cust7</td>\n",
       "      <td>194024062</td>\n",
       "    </tr>\n",
       "    <tr>\n",
       "      <th>32</th>\n",
       "      <td>Cust5</td>\n",
       "      <td>189780408</td>\n",
       "    </tr>\n",
       "    <tr>\n",
       "      <th>11</th>\n",
       "      <td>Cust2</td>\n",
       "      <td>180151217</td>\n",
       "    </tr>\n",
       "    <tr>\n",
       "      <th>36</th>\n",
       "      <td>Cust9</td>\n",
       "      <td>124420719</td>\n",
       "    </tr>\n",
       "    <tr>\n",
       "      <th>33</th>\n",
       "      <td>Cust6</td>\n",
       "      <td>49851877</td>\n",
       "    </tr>\n",
       "    <tr>\n",
       "      <th>8</th>\n",
       "      <td>Cust17</td>\n",
       "      <td>37688770</td>\n",
       "    </tr>\n",
       "    <tr>\n",
       "      <th>30</th>\n",
       "      <td>Cust37</td>\n",
       "      <td>35791361</td>\n",
       "    </tr>\n",
       "    <tr>\n",
       "      <th>1</th>\n",
       "      <td>Cust10</td>\n",
       "      <td>34536367</td>\n",
       "    </tr>\n",
       "    <tr>\n",
       "      <th>18</th>\n",
       "      <td>Cust26</td>\n",
       "      <td>32353568</td>\n",
       "    </tr>\n",
       "    <tr>\n",
       "      <th>2</th>\n",
       "      <td>Cust11</td>\n",
       "      <td>31108859</td>\n",
       "    </tr>\n",
       "    <tr>\n",
       "      <th>20</th>\n",
       "      <td>Cust28</td>\n",
       "      <td>26715072</td>\n",
       "    </tr>\n",
       "    <tr>\n",
       "      <th>16</th>\n",
       "      <td>Cust24</td>\n",
       "      <td>26206707</td>\n",
       "    </tr>\n",
       "    <tr>\n",
       "      <th>28</th>\n",
       "      <td>Cust35</td>\n",
       "      <td>21849144</td>\n",
       "    </tr>\n",
       "    <tr>\n",
       "      <th>17</th>\n",
       "      <td>Cust25</td>\n",
       "      <td>13873393</td>\n",
       "    </tr>\n",
       "    <tr>\n",
       "      <th>31</th>\n",
       "      <td>Cust4</td>\n",
       "      <td>13515341</td>\n",
       "    </tr>\n",
       "    <tr>\n",
       "      <th>6</th>\n",
       "      <td>Cust15</td>\n",
       "      <td>11486681</td>\n",
       "    </tr>\n",
       "    <tr>\n",
       "      <th>24</th>\n",
       "      <td>Cust31</td>\n",
       "      <td>7565870</td>\n",
       "    </tr>\n",
       "    <tr>\n",
       "      <th>27</th>\n",
       "      <td>Cust34</td>\n",
       "      <td>7391585</td>\n",
       "    </tr>\n",
       "    <tr>\n",
       "      <th>9</th>\n",
       "      <td>Cust18</td>\n",
       "      <td>5246936</td>\n",
       "    </tr>\n",
       "    <tr>\n",
       "      <th>35</th>\n",
       "      <td>Cust8</td>\n",
       "      <td>2027835</td>\n",
       "    </tr>\n",
       "    <tr>\n",
       "      <th>12</th>\n",
       "      <td>Cust20</td>\n",
       "      <td>0</td>\n",
       "    </tr>\n",
       "    <tr>\n",
       "      <th>25</th>\n",
       "      <td>Cust32</td>\n",
       "      <td>0</td>\n",
       "    </tr>\n",
       "    <tr>\n",
       "      <th>26</th>\n",
       "      <td>Cust33</td>\n",
       "      <td>0</td>\n",
       "    </tr>\n",
       "    <tr>\n",
       "      <th>5</th>\n",
       "      <td>Cust14</td>\n",
       "      <td>0</td>\n",
       "    </tr>\n",
       "    <tr>\n",
       "      <th>29</th>\n",
       "      <td>Cust36</td>\n",
       "      <td>0</td>\n",
       "    </tr>\n",
       "    <tr>\n",
       "      <th>7</th>\n",
       "      <td>Cust16</td>\n",
       "      <td>0</td>\n",
       "    </tr>\n",
       "    <tr>\n",
       "      <th>4</th>\n",
       "      <td>Cust13</td>\n",
       "      <td>0</td>\n",
       "    </tr>\n",
       "    <tr>\n",
       "      <th>14</th>\n",
       "      <td>Cust22</td>\n",
       "      <td>0</td>\n",
       "    </tr>\n",
       "    <tr>\n",
       "      <th>13</th>\n",
       "      <td>Cust21</td>\n",
       "      <td>0</td>\n",
       "    </tr>\n",
       "    <tr>\n",
       "      <th>10</th>\n",
       "      <td>Cust19</td>\n",
       "      <td>0</td>\n",
       "    </tr>\n",
       "  </tbody>\n",
       "</table>\n",
       "</div>"
      ],
      "text/plain": [
       "   customer       sales\n",
       "23   Cust30  2000120107\n",
       "0     Cust1  1880878979\n",
       "3    Cust12  1766931447\n",
       "19   Cust27   648497031\n",
       "21   Cust29   520255114\n",
       "15   Cust23   481769577\n",
       "22    Cust3   318230675\n",
       "34    Cust7   194024062\n",
       "32    Cust5   189780408\n",
       "11    Cust2   180151217\n",
       "36    Cust9   124420719\n",
       "33    Cust6    49851877\n",
       "8    Cust17    37688770\n",
       "30   Cust37    35791361\n",
       "1    Cust10    34536367\n",
       "18   Cust26    32353568\n",
       "2    Cust11    31108859\n",
       "20   Cust28    26715072\n",
       "16   Cust24    26206707\n",
       "28   Cust35    21849144\n",
       "17   Cust25    13873393\n",
       "31    Cust4    13515341\n",
       "6    Cust15    11486681\n",
       "24   Cust31     7565870\n",
       "27   Cust34     7391585\n",
       "9    Cust18     5246936\n",
       "35    Cust8     2027835\n",
       "12   Cust20           0\n",
       "25   Cust32           0\n",
       "26   Cust33           0\n",
       "5    Cust14           0\n",
       "29   Cust36           0\n",
       "7    Cust16           0\n",
       "4    Cust13           0\n",
       "14   Cust22           0\n",
       "13   Cust21           0\n",
       "10   Cust19           0"
      ]
     },
     "execution_count": 1353,
     "metadata": {},
     "output_type": "execute_result"
    }
   ],
   "source": [
    "sales_by_total_value_sum = sales.groupby(['customer']).sum().reset_index().sort_values(by='sales', ascending=False)\n",
    "sales_by_total_value_sum"
   ]
  },
  {
   "cell_type": "markdown",
   "id": "7323bf21",
   "metadata": {},
   "source": [
    "Найдем даты последних заказов по каждому клиенту, предварительно отфильтровав нулевые и отрицательные продажи."
   ]
  },
  {
   "cell_type": "code",
   "execution_count": 1354,
   "id": "6a25d51f",
   "metadata": {},
   "outputs": [
    {
     "data": {
      "text/html": [
       "<div>\n",
       "<style scoped>\n",
       "    .dataframe tbody tr th:only-of-type {\n",
       "        vertical-align: middle;\n",
       "    }\n",
       "\n",
       "    .dataframe tbody tr th {\n",
       "        vertical-align: top;\n",
       "    }\n",
       "\n",
       "    .dataframe thead th {\n",
       "        text-align: right;\n",
       "    }\n",
       "</style>\n",
       "<table border=\"1\" class=\"dataframe\">\n",
       "  <thead>\n",
       "    <tr style=\"text-align: right;\">\n",
       "      <th></th>\n",
       "      <th>customer</th>\n",
       "      <th>product_family</th>\n",
       "      <th>product</th>\n",
       "      <th>business_unit</th>\n",
       "      <th>currency</th>\n",
       "      <th>date</th>\n",
       "      <th>sales</th>\n",
       "    </tr>\n",
       "  </thead>\n",
       "  <tbody>\n",
       "    <tr>\n",
       "      <th>0</th>\n",
       "      <td>Cust1</td>\n",
       "      <td>FAM1</td>\n",
       "      <td>Prd2</td>\n",
       "      <td>unknow</td>\n",
       "      <td>M.RUB</td>\n",
       "      <td>2020-12-03</td>\n",
       "      <td>112260424</td>\n",
       "    </tr>\n",
       "    <tr>\n",
       "      <th>1</th>\n",
       "      <td>Cust10</td>\n",
       "      <td>FAM13</td>\n",
       "      <td>Prd39</td>\n",
       "      <td>Speciality Business</td>\n",
       "      <td>M.RUB</td>\n",
       "      <td>2020-10-04</td>\n",
       "      <td>1263994</td>\n",
       "    </tr>\n",
       "    <tr>\n",
       "      <th>2</th>\n",
       "      <td>Cust11</td>\n",
       "      <td>FAM1</td>\n",
       "      <td>Prd4</td>\n",
       "      <td>Speciality Business</td>\n",
       "      <td>M.RUB</td>\n",
       "      <td>2020-10-06</td>\n",
       "      <td>175298</td>\n",
       "    </tr>\n",
       "    <tr>\n",
       "      <th>3</th>\n",
       "      <td>Cust12</td>\n",
       "      <td>FAM13</td>\n",
       "      <td>Prd38</td>\n",
       "      <td>Speciality Business</td>\n",
       "      <td>M.RUB</td>\n",
       "      <td>2020-12-03</td>\n",
       "      <td>24108</td>\n",
       "    </tr>\n",
       "    <tr>\n",
       "      <th>4</th>\n",
       "      <td>Cust15</td>\n",
       "      <td>FAM20</td>\n",
       "      <td>Prd48</td>\n",
       "      <td>Speciality Business</td>\n",
       "      <td>M.RUB</td>\n",
       "      <td>2020-08-04</td>\n",
       "      <td>2667925</td>\n",
       "    </tr>\n",
       "    <tr>\n",
       "      <th>5</th>\n",
       "      <td>Cust17</td>\n",
       "      <td>FAM11</td>\n",
       "      <td>Prd32</td>\n",
       "      <td>unknow</td>\n",
       "      <td>M.RUB</td>\n",
       "      <td>2020-07-27</td>\n",
       "      <td>58261</td>\n",
       "    </tr>\n",
       "    <tr>\n",
       "      <th>6</th>\n",
       "      <td>Cust18</td>\n",
       "      <td>FAM2</td>\n",
       "      <td>Prd9</td>\n",
       "      <td>Oncology</td>\n",
       "      <td>M.RUB</td>\n",
       "      <td>2019-06-17</td>\n",
       "      <td>4289610</td>\n",
       "    </tr>\n",
       "    <tr>\n",
       "      <th>7</th>\n",
       "      <td>Cust2</td>\n",
       "      <td>FAM1</td>\n",
       "      <td>Prd5</td>\n",
       "      <td>unknow</td>\n",
       "      <td>M.RUB</td>\n",
       "      <td>2020-12-05</td>\n",
       "      <td>36250792</td>\n",
       "    </tr>\n",
       "    <tr>\n",
       "      <th>8</th>\n",
       "      <td>Cust23</td>\n",
       "      <td>FAM20</td>\n",
       "      <td>Prd48</td>\n",
       "      <td>Speciality Business</td>\n",
       "      <td>M.RUB</td>\n",
       "      <td>2020-12-03</td>\n",
       "      <td>31125790</td>\n",
       "    </tr>\n",
       "    <tr>\n",
       "      <th>9</th>\n",
       "      <td>Cust24</td>\n",
       "      <td>FAM18</td>\n",
       "      <td>Prd45</td>\n",
       "      <td>unknow</td>\n",
       "      <td>M.RUB</td>\n",
       "      <td>2020-11-06</td>\n",
       "      <td>40769</td>\n",
       "    </tr>\n",
       "    <tr>\n",
       "      <th>10</th>\n",
       "      <td>Cust25</td>\n",
       "      <td>FAM22</td>\n",
       "      <td>Prd53</td>\n",
       "      <td>Speciality Business</td>\n",
       "      <td>M.RUB</td>\n",
       "      <td>2020-12-02</td>\n",
       "      <td>33202</td>\n",
       "    </tr>\n",
       "    <tr>\n",
       "      <th>11</th>\n",
       "      <td>Cust26</td>\n",
       "      <td>FAM18</td>\n",
       "      <td>Prd46</td>\n",
       "      <td>unknow</td>\n",
       "      <td>M.RUB</td>\n",
       "      <td>2020-10-07</td>\n",
       "      <td>815370</td>\n",
       "    </tr>\n",
       "    <tr>\n",
       "      <th>12</th>\n",
       "      <td>Cust27</td>\n",
       "      <td>FAM20</td>\n",
       "      <td>Prd48</td>\n",
       "      <td>Speciality Business</td>\n",
       "      <td>M.RUB</td>\n",
       "      <td>2020-12-02</td>\n",
       "      <td>25696563</td>\n",
       "    </tr>\n",
       "    <tr>\n",
       "      <th>13</th>\n",
       "      <td>Cust28</td>\n",
       "      <td>FAM11</td>\n",
       "      <td>Prd32</td>\n",
       "      <td>unknow</td>\n",
       "      <td>M.RUB</td>\n",
       "      <td>2020-07-30</td>\n",
       "      <td>250522</td>\n",
       "    </tr>\n",
       "    <tr>\n",
       "      <th>14</th>\n",
       "      <td>Cust29</td>\n",
       "      <td>FAM11</td>\n",
       "      <td>Prd30</td>\n",
       "      <td>Speciality Business</td>\n",
       "      <td>M.RUB</td>\n",
       "      <td>2020-10-07</td>\n",
       "      <td>1134845</td>\n",
       "    </tr>\n",
       "    <tr>\n",
       "      <th>15</th>\n",
       "      <td>Cust3</td>\n",
       "      <td>FAM16</td>\n",
       "      <td>Prd43</td>\n",
       "      <td>unknow</td>\n",
       "      <td>M.RUB</td>\n",
       "      <td>2019-12-18</td>\n",
       "      <td>10113645</td>\n",
       "    </tr>\n",
       "    <tr>\n",
       "      <th>16</th>\n",
       "      <td>Cust30</td>\n",
       "      <td>FAM23</td>\n",
       "      <td>Prd55</td>\n",
       "      <td>unknow</td>\n",
       "      <td>M.RUB</td>\n",
       "      <td>2020-07-29</td>\n",
       "      <td>4598549</td>\n",
       "    </tr>\n",
       "    <tr>\n",
       "      <th>17</th>\n",
       "      <td>Cust31</td>\n",
       "      <td>FAM20</td>\n",
       "      <td>Prd48</td>\n",
       "      <td>Speciality Business</td>\n",
       "      <td>M.RUB</td>\n",
       "      <td>2020-12-02</td>\n",
       "      <td>982686</td>\n",
       "    </tr>\n",
       "    <tr>\n",
       "      <th>18</th>\n",
       "      <td>Cust34</td>\n",
       "      <td>FAM13</td>\n",
       "      <td>Prd38</td>\n",
       "      <td>Speciality Business</td>\n",
       "      <td>M.RUB</td>\n",
       "      <td>2020-05-20</td>\n",
       "      <td>96432</td>\n",
       "    </tr>\n",
       "    <tr>\n",
       "      <th>19</th>\n",
       "      <td>Cust35</td>\n",
       "      <td>FAM20</td>\n",
       "      <td>Prd48</td>\n",
       "      <td>Speciality Business</td>\n",
       "      <td>M.RUB</td>\n",
       "      <td>2020-01-24</td>\n",
       "      <td>1342856</td>\n",
       "    </tr>\n",
       "    <tr>\n",
       "      <th>20</th>\n",
       "      <td>Cust37</td>\n",
       "      <td>FAM24</td>\n",
       "      <td>Prd56</td>\n",
       "      <td>unknow</td>\n",
       "      <td>M.RUB</td>\n",
       "      <td>2020-02-28</td>\n",
       "      <td>35791361</td>\n",
       "    </tr>\n",
       "    <tr>\n",
       "      <th>21</th>\n",
       "      <td>Cust4</td>\n",
       "      <td>FAM10</td>\n",
       "      <td>Prd27</td>\n",
       "      <td>Oncology</td>\n",
       "      <td>M.RUB</td>\n",
       "      <td>2019-12-12</td>\n",
       "      <td>118740</td>\n",
       "    </tr>\n",
       "    <tr>\n",
       "      <th>22</th>\n",
       "      <td>Cust5</td>\n",
       "      <td>FAM11</td>\n",
       "      <td>Prd30</td>\n",
       "      <td>Speciality Business</td>\n",
       "      <td>M.RUB</td>\n",
       "      <td>2020-10-07</td>\n",
       "      <td>577262</td>\n",
       "    </tr>\n",
       "    <tr>\n",
       "      <th>23</th>\n",
       "      <td>Cust6</td>\n",
       "      <td>FAM6</td>\n",
       "      <td>Prd17</td>\n",
       "      <td>Speciality Business</td>\n",
       "      <td>M.RUB</td>\n",
       "      <td>2020-11-02</td>\n",
       "      <td>70552</td>\n",
       "    </tr>\n",
       "    <tr>\n",
       "      <th>24</th>\n",
       "      <td>Cust7</td>\n",
       "      <td>FAM10</td>\n",
       "      <td>Prd27</td>\n",
       "      <td>Oncology</td>\n",
       "      <td>M.RUB</td>\n",
       "      <td>2020-10-07</td>\n",
       "      <td>118713</td>\n",
       "    </tr>\n",
       "    <tr>\n",
       "      <th>25</th>\n",
       "      <td>Cust8</td>\n",
       "      <td>FAM2</td>\n",
       "      <td>Prd9</td>\n",
       "      <td>Oncology</td>\n",
       "      <td>M.RUB</td>\n",
       "      <td>2020-08-06</td>\n",
       "      <td>297822</td>\n",
       "    </tr>\n",
       "    <tr>\n",
       "      <th>26</th>\n",
       "      <td>Cust9</td>\n",
       "      <td>FAM3</td>\n",
       "      <td>Prd11</td>\n",
       "      <td>Speciality Business</td>\n",
       "      <td>M.RUB</td>\n",
       "      <td>2020-10-03</td>\n",
       "      <td>28757</td>\n",
       "    </tr>\n",
       "  </tbody>\n",
       "</table>\n",
       "</div>"
      ],
      "text/plain": [
       "   customer product_family product        business_unit currency       date  \\\n",
       "0     Cust1           FAM1    Prd2               unknow    M.RUB 2020-12-03   \n",
       "1    Cust10          FAM13   Prd39  Speciality Business    M.RUB 2020-10-04   \n",
       "2    Cust11           FAM1    Prd4  Speciality Business    M.RUB 2020-10-06   \n",
       "3    Cust12          FAM13   Prd38  Speciality Business    M.RUB 2020-12-03   \n",
       "4    Cust15          FAM20   Prd48  Speciality Business    M.RUB 2020-08-04   \n",
       "5    Cust17          FAM11   Prd32               unknow    M.RUB 2020-07-27   \n",
       "6    Cust18           FAM2    Prd9             Oncology    M.RUB 2019-06-17   \n",
       "7     Cust2           FAM1    Prd5               unknow    M.RUB 2020-12-05   \n",
       "8    Cust23          FAM20   Prd48  Speciality Business    M.RUB 2020-12-03   \n",
       "9    Cust24          FAM18   Prd45               unknow    M.RUB 2020-11-06   \n",
       "10   Cust25          FAM22   Prd53  Speciality Business    M.RUB 2020-12-02   \n",
       "11   Cust26          FAM18   Prd46               unknow    M.RUB 2020-10-07   \n",
       "12   Cust27          FAM20   Prd48  Speciality Business    M.RUB 2020-12-02   \n",
       "13   Cust28          FAM11   Prd32               unknow    M.RUB 2020-07-30   \n",
       "14   Cust29          FAM11   Prd30  Speciality Business    M.RUB 2020-10-07   \n",
       "15    Cust3          FAM16   Prd43               unknow    M.RUB 2019-12-18   \n",
       "16   Cust30          FAM23   Prd55               unknow    M.RUB 2020-07-29   \n",
       "17   Cust31          FAM20   Prd48  Speciality Business    M.RUB 2020-12-02   \n",
       "18   Cust34          FAM13   Prd38  Speciality Business    M.RUB 2020-05-20   \n",
       "19   Cust35          FAM20   Prd48  Speciality Business    M.RUB 2020-01-24   \n",
       "20   Cust37          FAM24   Prd56               unknow    M.RUB 2020-02-28   \n",
       "21    Cust4          FAM10   Prd27             Oncology    M.RUB 2019-12-12   \n",
       "22    Cust5          FAM11   Prd30  Speciality Business    M.RUB 2020-10-07   \n",
       "23    Cust6           FAM6   Prd17  Speciality Business    M.RUB 2020-11-02   \n",
       "24    Cust7          FAM10   Prd27             Oncology    M.RUB 2020-10-07   \n",
       "25    Cust8           FAM2    Prd9             Oncology    M.RUB 2020-08-06   \n",
       "26    Cust9           FAM3   Prd11  Speciality Business    M.RUB 2020-10-03   \n",
       "\n",
       "        sales  \n",
       "0   112260424  \n",
       "1     1263994  \n",
       "2      175298  \n",
       "3       24108  \n",
       "4     2667925  \n",
       "5       58261  \n",
       "6     4289610  \n",
       "7    36250792  \n",
       "8    31125790  \n",
       "9       40769  \n",
       "10      33202  \n",
       "11     815370  \n",
       "12   25696563  \n",
       "13     250522  \n",
       "14    1134845  \n",
       "15   10113645  \n",
       "16    4598549  \n",
       "17     982686  \n",
       "18      96432  \n",
       "19    1342856  \n",
       "20   35791361  \n",
       "21     118740  \n",
       "22     577262  \n",
       "23      70552  \n",
       "24     118713  \n",
       "25     297822  \n",
       "26      28757  "
      ]
     },
     "execution_count": 1354,
     "metadata": {},
     "output_type": "execute_result"
    }
   ],
   "source": [
    "sales_by_last_date = sales[sales['sales']>0].sort_values('date').groupby('customer').last().reset_index()\n",
    "sales_by_last_date"
   ]
  },
  {
   "cell_type": "code",
   "execution_count": 1355,
   "id": "e9505d68",
   "metadata": {},
   "outputs": [
    {
     "data": {
      "text/plain": [
       "Index(['customer', 'product_family', 'product', 'business_unit', 'currency',\n",
       "       'last_date', 'sales'],\n",
       "      dtype='object')"
      ]
     },
     "execution_count": 1355,
     "metadata": {},
     "output_type": "execute_result"
    }
   ],
   "source": [
    "#переименуем столбцы\n",
    "sales_by_last_date = sales_by_last_date.rename(columns={'date': 'last_date'})\n",
    "sales_by_last_date.columns"
   ]
  },
  {
   "cell_type": "code",
   "execution_count": 1356,
   "id": "504b9cca",
   "metadata": {},
   "outputs": [
    {
     "data": {
      "text/html": [
       "<div>\n",
       "<style scoped>\n",
       "    .dataframe tbody tr th:only-of-type {\n",
       "        vertical-align: middle;\n",
       "    }\n",
       "\n",
       "    .dataframe tbody tr th {\n",
       "        vertical-align: top;\n",
       "    }\n",
       "\n",
       "    .dataframe thead th {\n",
       "        text-align: right;\n",
       "    }\n",
       "</style>\n",
       "<table border=\"1\" class=\"dataframe\">\n",
       "  <thead>\n",
       "    <tr style=\"text-align: right;\">\n",
       "      <th></th>\n",
       "      <th>customer</th>\n",
       "      <th>last_date</th>\n",
       "    </tr>\n",
       "  </thead>\n",
       "  <tbody>\n",
       "    <tr>\n",
       "      <th>0</th>\n",
       "      <td>Cust1</td>\n",
       "      <td>2020-12-03</td>\n",
       "    </tr>\n",
       "    <tr>\n",
       "      <th>1</th>\n",
       "      <td>Cust10</td>\n",
       "      <td>2020-10-04</td>\n",
       "    </tr>\n",
       "    <tr>\n",
       "      <th>2</th>\n",
       "      <td>Cust11</td>\n",
       "      <td>2020-10-06</td>\n",
       "    </tr>\n",
       "    <tr>\n",
       "      <th>3</th>\n",
       "      <td>Cust12</td>\n",
       "      <td>2020-12-03</td>\n",
       "    </tr>\n",
       "    <tr>\n",
       "      <th>4</th>\n",
       "      <td>Cust15</td>\n",
       "      <td>2020-08-04</td>\n",
       "    </tr>\n",
       "  </tbody>\n",
       "</table>\n",
       "</div>"
      ],
      "text/plain": [
       "  customer  last_date\n",
       "0    Cust1 2020-12-03\n",
       "1   Cust10 2020-10-04\n",
       "2   Cust11 2020-10-06\n",
       "3   Cust12 2020-12-03\n",
       "4   Cust15 2020-08-04"
      ]
     },
     "execution_count": 1356,
     "metadata": {},
     "output_type": "execute_result"
    }
   ],
   "source": [
    "#удалим лишние столбцы\n",
    "sales_by_last_date = sales_by_last_date[['customer','last_date']]\n",
    "sales_by_last_date.head()"
   ]
  },
  {
   "cell_type": "markdown",
   "id": "944340f2",
   "metadata": {},
   "source": [
    "Соединим фраймы sales_by_total_value_sum и sales_by_last_date"
   ]
  },
  {
   "cell_type": "code",
   "execution_count": 1357,
   "id": "d213bb2e",
   "metadata": {},
   "outputs": [
    {
     "data": {
      "text/html": [
       "<div>\n",
       "<style scoped>\n",
       "    .dataframe tbody tr th:only-of-type {\n",
       "        vertical-align: middle;\n",
       "    }\n",
       "\n",
       "    .dataframe tbody tr th {\n",
       "        vertical-align: top;\n",
       "    }\n",
       "\n",
       "    .dataframe thead th {\n",
       "        text-align: right;\n",
       "    }\n",
       "</style>\n",
       "<table border=\"1\" class=\"dataframe\">\n",
       "  <thead>\n",
       "    <tr style=\"text-align: right;\">\n",
       "      <th></th>\n",
       "      <th>customer</th>\n",
       "      <th>sales</th>\n",
       "      <th>last_date</th>\n",
       "    </tr>\n",
       "  </thead>\n",
       "  <tbody>\n",
       "    <tr>\n",
       "      <th>0</th>\n",
       "      <td>Cust30</td>\n",
       "      <td>2000120107</td>\n",
       "      <td>2020-07-29</td>\n",
       "    </tr>\n",
       "    <tr>\n",
       "      <th>1</th>\n",
       "      <td>Cust1</td>\n",
       "      <td>1880878979</td>\n",
       "      <td>2020-12-03</td>\n",
       "    </tr>\n",
       "    <tr>\n",
       "      <th>2</th>\n",
       "      <td>Cust12</td>\n",
       "      <td>1766931447</td>\n",
       "      <td>2020-12-03</td>\n",
       "    </tr>\n",
       "    <tr>\n",
       "      <th>3</th>\n",
       "      <td>Cust27</td>\n",
       "      <td>648497031</td>\n",
       "      <td>2020-12-02</td>\n",
       "    </tr>\n",
       "    <tr>\n",
       "      <th>4</th>\n",
       "      <td>Cust29</td>\n",
       "      <td>520255114</td>\n",
       "      <td>2020-10-07</td>\n",
       "    </tr>\n",
       "    <tr>\n",
       "      <th>5</th>\n",
       "      <td>Cust23</td>\n",
       "      <td>481769577</td>\n",
       "      <td>2020-12-03</td>\n",
       "    </tr>\n",
       "    <tr>\n",
       "      <th>6</th>\n",
       "      <td>Cust3</td>\n",
       "      <td>318230675</td>\n",
       "      <td>2019-12-18</td>\n",
       "    </tr>\n",
       "    <tr>\n",
       "      <th>7</th>\n",
       "      <td>Cust7</td>\n",
       "      <td>194024062</td>\n",
       "      <td>2020-10-07</td>\n",
       "    </tr>\n",
       "    <tr>\n",
       "      <th>8</th>\n",
       "      <td>Cust5</td>\n",
       "      <td>189780408</td>\n",
       "      <td>2020-10-07</td>\n",
       "    </tr>\n",
       "    <tr>\n",
       "      <th>9</th>\n",
       "      <td>Cust2</td>\n",
       "      <td>180151217</td>\n",
       "      <td>2020-12-05</td>\n",
       "    </tr>\n",
       "    <tr>\n",
       "      <th>10</th>\n",
       "      <td>Cust9</td>\n",
       "      <td>124420719</td>\n",
       "      <td>2020-10-03</td>\n",
       "    </tr>\n",
       "    <tr>\n",
       "      <th>11</th>\n",
       "      <td>Cust6</td>\n",
       "      <td>49851877</td>\n",
       "      <td>2020-11-02</td>\n",
       "    </tr>\n",
       "    <tr>\n",
       "      <th>12</th>\n",
       "      <td>Cust17</td>\n",
       "      <td>37688770</td>\n",
       "      <td>2020-07-27</td>\n",
       "    </tr>\n",
       "    <tr>\n",
       "      <th>13</th>\n",
       "      <td>Cust37</td>\n",
       "      <td>35791361</td>\n",
       "      <td>2020-02-28</td>\n",
       "    </tr>\n",
       "    <tr>\n",
       "      <th>14</th>\n",
       "      <td>Cust10</td>\n",
       "      <td>34536367</td>\n",
       "      <td>2020-10-04</td>\n",
       "    </tr>\n",
       "    <tr>\n",
       "      <th>15</th>\n",
       "      <td>Cust26</td>\n",
       "      <td>32353568</td>\n",
       "      <td>2020-10-07</td>\n",
       "    </tr>\n",
       "    <tr>\n",
       "      <th>16</th>\n",
       "      <td>Cust11</td>\n",
       "      <td>31108859</td>\n",
       "      <td>2020-10-06</td>\n",
       "    </tr>\n",
       "    <tr>\n",
       "      <th>17</th>\n",
       "      <td>Cust28</td>\n",
       "      <td>26715072</td>\n",
       "      <td>2020-07-30</td>\n",
       "    </tr>\n",
       "    <tr>\n",
       "      <th>18</th>\n",
       "      <td>Cust24</td>\n",
       "      <td>26206707</td>\n",
       "      <td>2020-11-06</td>\n",
       "    </tr>\n",
       "    <tr>\n",
       "      <th>19</th>\n",
       "      <td>Cust35</td>\n",
       "      <td>21849144</td>\n",
       "      <td>2020-01-24</td>\n",
       "    </tr>\n",
       "    <tr>\n",
       "      <th>20</th>\n",
       "      <td>Cust25</td>\n",
       "      <td>13873393</td>\n",
       "      <td>2020-12-02</td>\n",
       "    </tr>\n",
       "    <tr>\n",
       "      <th>21</th>\n",
       "      <td>Cust4</td>\n",
       "      <td>13515341</td>\n",
       "      <td>2019-12-12</td>\n",
       "    </tr>\n",
       "    <tr>\n",
       "      <th>22</th>\n",
       "      <td>Cust15</td>\n",
       "      <td>11486681</td>\n",
       "      <td>2020-08-04</td>\n",
       "    </tr>\n",
       "    <tr>\n",
       "      <th>23</th>\n",
       "      <td>Cust31</td>\n",
       "      <td>7565870</td>\n",
       "      <td>2020-12-02</td>\n",
       "    </tr>\n",
       "    <tr>\n",
       "      <th>24</th>\n",
       "      <td>Cust34</td>\n",
       "      <td>7391585</td>\n",
       "      <td>2020-05-20</td>\n",
       "    </tr>\n",
       "    <tr>\n",
       "      <th>25</th>\n",
       "      <td>Cust18</td>\n",
       "      <td>5246936</td>\n",
       "      <td>2019-06-17</td>\n",
       "    </tr>\n",
       "    <tr>\n",
       "      <th>26</th>\n",
       "      <td>Cust8</td>\n",
       "      <td>2027835</td>\n",
       "      <td>2020-08-06</td>\n",
       "    </tr>\n",
       "  </tbody>\n",
       "</table>\n",
       "</div>"
      ],
      "text/plain": [
       "   customer       sales  last_date\n",
       "0    Cust30  2000120107 2020-07-29\n",
       "1     Cust1  1880878979 2020-12-03\n",
       "2    Cust12  1766931447 2020-12-03\n",
       "3    Cust27   648497031 2020-12-02\n",
       "4    Cust29   520255114 2020-10-07\n",
       "5    Cust23   481769577 2020-12-03\n",
       "6     Cust3   318230675 2019-12-18\n",
       "7     Cust7   194024062 2020-10-07\n",
       "8     Cust5   189780408 2020-10-07\n",
       "9     Cust2   180151217 2020-12-05\n",
       "10    Cust9   124420719 2020-10-03\n",
       "11    Cust6    49851877 2020-11-02\n",
       "12   Cust17    37688770 2020-07-27\n",
       "13   Cust37    35791361 2020-02-28\n",
       "14   Cust10    34536367 2020-10-04\n",
       "15   Cust26    32353568 2020-10-07\n",
       "16   Cust11    31108859 2020-10-06\n",
       "17   Cust28    26715072 2020-07-30\n",
       "18   Cust24    26206707 2020-11-06\n",
       "19   Cust35    21849144 2020-01-24\n",
       "20   Cust25    13873393 2020-12-02\n",
       "21    Cust4    13515341 2019-12-12\n",
       "22   Cust15    11486681 2020-08-04\n",
       "23   Cust31     7565870 2020-12-02\n",
       "24   Cust34     7391585 2020-05-20\n",
       "25   Cust18     5246936 2019-06-17\n",
       "26    Cust8     2027835 2020-08-06"
      ]
     },
     "execution_count": 1357,
     "metadata": {},
     "output_type": "execute_result"
    }
   ],
   "source": [
    "svo_table = sales_by_total_value_sum.merge(sales_by_last_date, on='customer')\n",
    "svo_table"
   ]
  },
  {
   "cell_type": "markdown",
   "id": "d4656592",
   "metadata": {},
   "source": [
    "Добавим к ним ещё frequence"
   ]
  },
  {
   "cell_type": "code",
   "execution_count": 1358,
   "id": "622d1b73",
   "metadata": {},
   "outputs": [
    {
     "data": {
      "text/html": [
       "<div>\n",
       "<style scoped>\n",
       "    .dataframe tbody tr th:only-of-type {\n",
       "        vertical-align: middle;\n",
       "    }\n",
       "\n",
       "    .dataframe tbody tr th {\n",
       "        vertical-align: top;\n",
       "    }\n",
       "\n",
       "    .dataframe thead th {\n",
       "        text-align: right;\n",
       "    }\n",
       "</style>\n",
       "<table border=\"1\" class=\"dataframe\">\n",
       "  <thead>\n",
       "    <tr style=\"text-align: right;\">\n",
       "      <th></th>\n",
       "      <th>customer</th>\n",
       "      <th>sales</th>\n",
       "      <th>last_date</th>\n",
       "      <th>frequence</th>\n",
       "    </tr>\n",
       "  </thead>\n",
       "  <tbody>\n",
       "    <tr>\n",
       "      <th>0</th>\n",
       "      <td>Cust30</td>\n",
       "      <td>2000120107</td>\n",
       "      <td>2020-07-29</td>\n",
       "      <td>103</td>\n",
       "    </tr>\n",
       "    <tr>\n",
       "      <th>1</th>\n",
       "      <td>Cust1</td>\n",
       "      <td>1880878979</td>\n",
       "      <td>2020-12-03</td>\n",
       "      <td>32</td>\n",
       "    </tr>\n",
       "    <tr>\n",
       "      <th>2</th>\n",
       "      <td>Cust12</td>\n",
       "      <td>1766931447</td>\n",
       "      <td>2020-12-03</td>\n",
       "      <td>416</td>\n",
       "    </tr>\n",
       "    <tr>\n",
       "      <th>3</th>\n",
       "      <td>Cust27</td>\n",
       "      <td>648497031</td>\n",
       "      <td>2020-12-02</td>\n",
       "      <td>273</td>\n",
       "    </tr>\n",
       "    <tr>\n",
       "      <th>4</th>\n",
       "      <td>Cust29</td>\n",
       "      <td>520255114</td>\n",
       "      <td>2020-10-07</td>\n",
       "      <td>334</td>\n",
       "    </tr>\n",
       "    <tr>\n",
       "      <th>5</th>\n",
       "      <td>Cust23</td>\n",
       "      <td>481769577</td>\n",
       "      <td>2020-12-03</td>\n",
       "      <td>161</td>\n",
       "    </tr>\n",
       "    <tr>\n",
       "      <th>6</th>\n",
       "      <td>Cust3</td>\n",
       "      <td>318230675</td>\n",
       "      <td>2019-12-18</td>\n",
       "      <td>247</td>\n",
       "    </tr>\n",
       "    <tr>\n",
       "      <th>7</th>\n",
       "      <td>Cust7</td>\n",
       "      <td>194024062</td>\n",
       "      <td>2020-10-07</td>\n",
       "      <td>92</td>\n",
       "    </tr>\n",
       "    <tr>\n",
       "      <th>8</th>\n",
       "      <td>Cust5</td>\n",
       "      <td>189780408</td>\n",
       "      <td>2020-10-07</td>\n",
       "      <td>119</td>\n",
       "    </tr>\n",
       "    <tr>\n",
       "      <th>9</th>\n",
       "      <td>Cust2</td>\n",
       "      <td>180151217</td>\n",
       "      <td>2020-12-05</td>\n",
       "      <td>14</td>\n",
       "    </tr>\n",
       "    <tr>\n",
       "      <th>10</th>\n",
       "      <td>Cust9</td>\n",
       "      <td>124420719</td>\n",
       "      <td>2020-10-03</td>\n",
       "      <td>84</td>\n",
       "    </tr>\n",
       "    <tr>\n",
       "      <th>11</th>\n",
       "      <td>Cust6</td>\n",
       "      <td>49851877</td>\n",
       "      <td>2020-11-02</td>\n",
       "      <td>77</td>\n",
       "    </tr>\n",
       "    <tr>\n",
       "      <th>12</th>\n",
       "      <td>Cust17</td>\n",
       "      <td>37688770</td>\n",
       "      <td>2020-07-27</td>\n",
       "      <td>96</td>\n",
       "    </tr>\n",
       "    <tr>\n",
       "      <th>13</th>\n",
       "      <td>Cust37</td>\n",
       "      <td>35791361</td>\n",
       "      <td>2020-02-28</td>\n",
       "      <td>3</td>\n",
       "    </tr>\n",
       "    <tr>\n",
       "      <th>14</th>\n",
       "      <td>Cust10</td>\n",
       "      <td>34536367</td>\n",
       "      <td>2020-10-04</td>\n",
       "      <td>48</td>\n",
       "    </tr>\n",
       "    <tr>\n",
       "      <th>15</th>\n",
       "      <td>Cust26</td>\n",
       "      <td>32353568</td>\n",
       "      <td>2020-10-07</td>\n",
       "      <td>30</td>\n",
       "    </tr>\n",
       "    <tr>\n",
       "      <th>16</th>\n",
       "      <td>Cust11</td>\n",
       "      <td>31108859</td>\n",
       "      <td>2020-10-06</td>\n",
       "      <td>32</td>\n",
       "    </tr>\n",
       "    <tr>\n",
       "      <th>17</th>\n",
       "      <td>Cust28</td>\n",
       "      <td>26715072</td>\n",
       "      <td>2020-07-30</td>\n",
       "      <td>61</td>\n",
       "    </tr>\n",
       "    <tr>\n",
       "      <th>18</th>\n",
       "      <td>Cust24</td>\n",
       "      <td>26206707</td>\n",
       "      <td>2020-11-06</td>\n",
       "      <td>49</td>\n",
       "    </tr>\n",
       "    <tr>\n",
       "      <th>19</th>\n",
       "      <td>Cust35</td>\n",
       "      <td>21849144</td>\n",
       "      <td>2020-01-24</td>\n",
       "      <td>18</td>\n",
       "    </tr>\n",
       "    <tr>\n",
       "      <th>20</th>\n",
       "      <td>Cust25</td>\n",
       "      <td>13873393</td>\n",
       "      <td>2020-12-02</td>\n",
       "      <td>31</td>\n",
       "    </tr>\n",
       "    <tr>\n",
       "      <th>21</th>\n",
       "      <td>Cust4</td>\n",
       "      <td>13515341</td>\n",
       "      <td>2019-12-12</td>\n",
       "      <td>45</td>\n",
       "    </tr>\n",
       "    <tr>\n",
       "      <th>22</th>\n",
       "      <td>Cust15</td>\n",
       "      <td>11486681</td>\n",
       "      <td>2020-08-04</td>\n",
       "      <td>8</td>\n",
       "    </tr>\n",
       "    <tr>\n",
       "      <th>23</th>\n",
       "      <td>Cust31</td>\n",
       "      <td>7565870</td>\n",
       "      <td>2020-12-02</td>\n",
       "      <td>17</td>\n",
       "    </tr>\n",
       "    <tr>\n",
       "      <th>24</th>\n",
       "      <td>Cust34</td>\n",
       "      <td>7391585</td>\n",
       "      <td>2020-05-20</td>\n",
       "      <td>20</td>\n",
       "    </tr>\n",
       "    <tr>\n",
       "      <th>25</th>\n",
       "      <td>Cust18</td>\n",
       "      <td>5246936</td>\n",
       "      <td>2019-06-17</td>\n",
       "      <td>2</td>\n",
       "    </tr>\n",
       "    <tr>\n",
       "      <th>26</th>\n",
       "      <td>Cust8</td>\n",
       "      <td>2027835</td>\n",
       "      <td>2020-08-06</td>\n",
       "      <td>5</td>\n",
       "    </tr>\n",
       "  </tbody>\n",
       "</table>\n",
       "</div>"
      ],
      "text/plain": [
       "   customer       sales  last_date  frequence\n",
       "0    Cust30  2000120107 2020-07-29        103\n",
       "1     Cust1  1880878979 2020-12-03         32\n",
       "2    Cust12  1766931447 2020-12-03        416\n",
       "3    Cust27   648497031 2020-12-02        273\n",
       "4    Cust29   520255114 2020-10-07        334\n",
       "5    Cust23   481769577 2020-12-03        161\n",
       "6     Cust3   318230675 2019-12-18        247\n",
       "7     Cust7   194024062 2020-10-07         92\n",
       "8     Cust5   189780408 2020-10-07        119\n",
       "9     Cust2   180151217 2020-12-05         14\n",
       "10    Cust9   124420719 2020-10-03         84\n",
       "11    Cust6    49851877 2020-11-02         77\n",
       "12   Cust17    37688770 2020-07-27         96\n",
       "13   Cust37    35791361 2020-02-28          3\n",
       "14   Cust10    34536367 2020-10-04         48\n",
       "15   Cust26    32353568 2020-10-07         30\n",
       "16   Cust11    31108859 2020-10-06         32\n",
       "17   Cust28    26715072 2020-07-30         61\n",
       "18   Cust24    26206707 2020-11-06         49\n",
       "19   Cust35    21849144 2020-01-24         18\n",
       "20   Cust25    13873393 2020-12-02         31\n",
       "21    Cust4    13515341 2019-12-12         45\n",
       "22   Cust15    11486681 2020-08-04          8\n",
       "23   Cust31     7565870 2020-12-02         17\n",
       "24   Cust34     7391585 2020-05-20         20\n",
       "25   Cust18     5246936 2019-06-17          2\n",
       "26    Cust8     2027835 2020-08-06          5"
      ]
     },
     "execution_count": 1358,
     "metadata": {},
     "output_type": "execute_result"
    }
   ],
   "source": [
    "svo_table = svo_table.merge(frequence, on='customer')\n",
    "svo_table"
   ]
  },
  {
   "cell_type": "code",
   "execution_count": 1359,
   "id": "cc71dc56",
   "metadata": {},
   "outputs": [
    {
     "data": {
      "text/plain": [
       "Timestamp('2019-01-03 00:00:00')"
      ]
     },
     "execution_count": 1359,
     "metadata": {},
     "output_type": "execute_result"
    }
   ],
   "source": [
    "sales['date'].min()"
   ]
  },
  {
   "cell_type": "code",
   "execution_count": 1360,
   "id": "ae04fbd6",
   "metadata": {},
   "outputs": [
    {
     "data": {
      "text/plain": [
       "Timestamp('2020-12-05 00:00:00')"
      ]
     },
     "execution_count": 1360,
     "metadata": {},
     "output_type": "execute_result"
    }
   ],
   "source": [
    "sales['date'].max()"
   ]
  },
  {
   "cell_type": "markdown",
   "id": "ac47d8fb",
   "metadata": {},
   "source": [
    "Здесь можно обратить внимание на пропорции частоты покупок и общей прибыли по топ-клиентам. Например, топ-1 (Cust30) по общей сумме покупок уступает топ-3 (Cust12). Или, например, топ-2 (Cust1) по сумме покупок имеет их частоту в разы меньшую, чем топ-1 и топ-3."
   ]
  },
  {
   "cell_type": "markdown",
   "id": "c2d13853",
   "metadata": {},
   "source": [
    "Посчитаем DAU, WAU, MAU — количество уникальных клиентов в день, в неделю, в месяц"
   ]
  },
  {
   "cell_type": "code",
   "execution_count": 1361,
   "id": "f72c4dc8",
   "metadata": {},
   "outputs": [
    {
     "data": {
      "text/html": [
       "<div>\n",
       "<style scoped>\n",
       "    .dataframe tbody tr th:only-of-type {\n",
       "        vertical-align: middle;\n",
       "    }\n",
       "\n",
       "    .dataframe tbody tr th {\n",
       "        vertical-align: top;\n",
       "    }\n",
       "\n",
       "    .dataframe thead th {\n",
       "        text-align: right;\n",
       "    }\n",
       "</style>\n",
       "<table border=\"1\" class=\"dataframe\">\n",
       "  <thead>\n",
       "    <tr style=\"text-align: right;\">\n",
       "      <th></th>\n",
       "      <th>product_family</th>\n",
       "      <th>product</th>\n",
       "      <th>customer</th>\n",
       "      <th>business_unit</th>\n",
       "      <th>currency</th>\n",
       "      <th>date</th>\n",
       "      <th>sales</th>\n",
       "      <th>sales_year</th>\n",
       "      <th>sales_month</th>\n",
       "      <th>sales_week</th>\n",
       "    </tr>\n",
       "  </thead>\n",
       "  <tbody>\n",
       "    <tr>\n",
       "      <th>29</th>\n",
       "      <td>FAM1</td>\n",
       "      <td>Prd1</td>\n",
       "      <td>Cust1</td>\n",
       "      <td>unknow</td>\n",
       "      <td>M.RUB</td>\n",
       "      <td>2019-05-02</td>\n",
       "      <td>28072314</td>\n",
       "      <td>2019</td>\n",
       "      <td>5</td>\n",
       "      <td>18</td>\n",
       "    </tr>\n",
       "    <tr>\n",
       "      <th>30</th>\n",
       "      <td>FAM1</td>\n",
       "      <td>Prd1</td>\n",
       "      <td>Cust1</td>\n",
       "      <td>unknow</td>\n",
       "      <td>M.RUB</td>\n",
       "      <td>2019-02-28</td>\n",
       "      <td>-1403616</td>\n",
       "      <td>2019</td>\n",
       "      <td>2</td>\n",
       "      <td>9</td>\n",
       "    </tr>\n",
       "    <tr>\n",
       "      <th>31</th>\n",
       "      <td>FAM1</td>\n",
       "      <td>Prd1</td>\n",
       "      <td>Cust1</td>\n",
       "      <td>unknow</td>\n",
       "      <td>M.RUB</td>\n",
       "      <td>2019-03-29</td>\n",
       "      <td>1403616</td>\n",
       "      <td>2019</td>\n",
       "      <td>3</td>\n",
       "      <td>13</td>\n",
       "    </tr>\n",
       "    <tr>\n",
       "      <th>32</th>\n",
       "      <td>FAM1</td>\n",
       "      <td>Prd1</td>\n",
       "      <td>Cust1</td>\n",
       "      <td>unknow</td>\n",
       "      <td>M.RUB</td>\n",
       "      <td>2019-03-31</td>\n",
       "      <td>-1403616</td>\n",
       "      <td>2019</td>\n",
       "      <td>3</td>\n",
       "      <td>13</td>\n",
       "    </tr>\n",
       "    <tr>\n",
       "      <th>33</th>\n",
       "      <td>FAM1</td>\n",
       "      <td>Prd1</td>\n",
       "      <td>Cust1</td>\n",
       "      <td>unknow</td>\n",
       "      <td>M.RUB</td>\n",
       "      <td>2019-04-15</td>\n",
       "      <td>-1403616</td>\n",
       "      <td>2019</td>\n",
       "      <td>4</td>\n",
       "      <td>16</td>\n",
       "    </tr>\n",
       "  </tbody>\n",
       "</table>\n",
       "</div>"
      ],
      "text/plain": [
       "   product_family product customer business_unit currency       date  \\\n",
       "29           FAM1    Prd1    Cust1        unknow    M.RUB 2019-05-02   \n",
       "30           FAM1    Prd1    Cust1        unknow    M.RUB 2019-02-28   \n",
       "31           FAM1    Prd1    Cust1        unknow    M.RUB 2019-03-29   \n",
       "32           FAM1    Prd1    Cust1        unknow    M.RUB 2019-03-31   \n",
       "33           FAM1    Prd1    Cust1        unknow    M.RUB 2019-04-15   \n",
       "\n",
       "       sales  sales_year  sales_month  sales_week  \n",
       "29  28072314        2019            5          18  \n",
       "30  -1403616        2019            2           9  \n",
       "31   1403616        2019            3          13  \n",
       "32  -1403616        2019            3          13  \n",
       "33  -1403616        2019            4          16  "
      ]
     },
     "execution_count": 1361,
     "metadata": {},
     "output_type": "execute_result"
    }
   ],
   "source": [
    "# выделяем год, номер месяца и номер недели из времени начала сессии\n",
    "sales['sales_year'] = sales['date'].dt.year\n",
    "sales['sales_month'] = sales['date'].dt.month\n",
    "sales['sales_week'] = sales['date'].dt.isocalendar().week\n",
    "\n",
    "\n",
    "sales.head()"
   ]
  },
  {
   "cell_type": "markdown",
   "id": "10a4a8be",
   "metadata": {},
   "source": [
    "Сгруппируем данные по дате и неделе, посчитаем количество уникальных пользователей по столбцу customer, найдём среднее."
   ]
  },
  {
   "cell_type": "code",
   "execution_count": 1362,
   "id": "b924acce",
   "metadata": {},
   "outputs": [
    {
     "name": "stdout",
     "output_type": "stream",
     "text": [
      "Количество уникальных клиентов в день:  2\n",
      "Количество уникальных клиентов в неделю:  8\n",
      "Количество уникальных клиентов в месяц:  16\n"
     ]
    }
   ],
   "source": [
    "dau = (\n",
    "    sales.groupby('date').agg({'customer': 'nunique'}).mean()\n",
    ")\n",
    "\n",
    "wau = (\n",
    "    sales.groupby(['sales_year', 'sales_week'])\n",
    "    .agg({'customer': 'nunique'})\n",
    "    .mean()\n",
    ")\n",
    "\n",
    "mau = (\n",
    "    sales.groupby(['sales_year', 'sales_month'])\n",
    "    .agg({'customer': 'nunique'})\n",
    "    .mean()\n",
    ")\n",
    "print('Количество уникальных клиентов в день: ',int(dau))\n",
    "print('Количество уникальных клиентов в неделю: ',int(wau)) \n",
    "print('Количество уникальных клиентов в месяц: ',int(mau)) "
   ]
  },
  {
   "cell_type": "markdown",
   "id": "0e25898c",
   "metadata": {},
   "source": [
    "Pегулярность покупок"
   ]
  },
  {
   "cell_type": "code",
   "execution_count": 1363,
   "id": "e049783f",
   "metadata": {},
   "outputs": [
    {
     "name": "stdout",
     "output_type": "stream",
     "text": [
      "Регулярность покупок в неделю:  customer    33.5904\n",
      "dtype: float64\n",
      "Регулярность покупок в месяц:  customer    17.329488\n",
      "dtype: float64\n"
     ]
    }
   ],
   "source": [
    "print('Регулярность покупок в неделю: ',dau / wau * 100) \n",
    "print('Регулярность покупок в месяц: ',dau / mau * 100) "
   ]
  },
  {
   "cell_type": "markdown",
   "id": "815b6bbe",
   "metadata": {},
   "source": [
    "Исследуем таблицу Пациенты отдельно, затем присоединим к ней Продажи."
   ]
  },
  {
   "cell_type": "code",
   "execution_count": 1364,
   "id": "d105db9f",
   "metadata": {},
   "outputs": [
    {
     "data": {
      "text/html": [
       "<div>\n",
       "<style scoped>\n",
       "    .dataframe tbody tr th:only-of-type {\n",
       "        vertical-align: middle;\n",
       "    }\n",
       "\n",
       "    .dataframe tbody tr th {\n",
       "        vertical-align: top;\n",
       "    }\n",
       "\n",
       "    .dataframe thead th {\n",
       "        text-align: right;\n",
       "    }\n",
       "</style>\n",
       "<table border=\"1\" class=\"dataframe\">\n",
       "  <thead>\n",
       "    <tr style=\"text-align: right;\">\n",
       "      <th></th>\n",
       "      <th>product</th>\n",
       "      <th>diagnosed_patients</th>\n",
       "    </tr>\n",
       "  </thead>\n",
       "  <tbody>\n",
       "    <tr>\n",
       "      <th>0</th>\n",
       "      <td>Prd21</td>\n",
       "      <td>2383</td>\n",
       "    </tr>\n",
       "    <tr>\n",
       "      <th>1</th>\n",
       "      <td>Prd63</td>\n",
       "      <td>1008</td>\n",
       "    </tr>\n",
       "    <tr>\n",
       "      <th>2</th>\n",
       "      <td>Prd2</td>\n",
       "      <td>389</td>\n",
       "    </tr>\n",
       "    <tr>\n",
       "      <th>3</th>\n",
       "      <td>Prd6</td>\n",
       "      <td>342</td>\n",
       "    </tr>\n",
       "    <tr>\n",
       "      <th>4</th>\n",
       "      <td>Prd62</td>\n",
       "      <td>128</td>\n",
       "    </tr>\n",
       "    <tr>\n",
       "      <th>5</th>\n",
       "      <td>Prd20</td>\n",
       "      <td>114</td>\n",
       "    </tr>\n",
       "    <tr>\n",
       "      <th>6</th>\n",
       "      <td>Prd59</td>\n",
       "      <td>26</td>\n",
       "    </tr>\n",
       "    <tr>\n",
       "      <th>7</th>\n",
       "      <td>Prd60</td>\n",
       "      <td>10</td>\n",
       "    </tr>\n",
       "    <tr>\n",
       "      <th>8</th>\n",
       "      <td>Prd57</td>\n",
       "      <td>8</td>\n",
       "    </tr>\n",
       "    <tr>\n",
       "      <th>9</th>\n",
       "      <td>Prd58</td>\n",
       "      <td>5</td>\n",
       "    </tr>\n",
       "    <tr>\n",
       "      <th>10</th>\n",
       "      <td>Prd61</td>\n",
       "      <td>3</td>\n",
       "    </tr>\n",
       "  </tbody>\n",
       "</table>\n",
       "</div>"
      ],
      "text/plain": [
       "   product  diagnosed_patients\n",
       "0    Prd21                2383\n",
       "1    Prd63                1008\n",
       "2     Prd2                 389\n",
       "3     Prd6                 342\n",
       "4    Prd62                 128\n",
       "5    Prd20                 114\n",
       "6    Prd59                  26\n",
       "7    Prd60                  10\n",
       "8    Prd57                   8\n",
       "9    Prd58                   5\n",
       "10   Prd61                   3"
      ]
     },
     "execution_count": 1364,
     "metadata": {},
     "output_type": "execute_result"
    }
   ],
   "source": [
    "#количество диагностируемых пациентов в разрезе продуктов\n",
    "patient_flow.groupby('product').agg({'diagnosed_patients':'sum'}).\\\n",
    "        sort_values('diagnosed_patients', ascending=False).reset_index()"
   ]
  },
  {
   "cell_type": "markdown",
   "id": "0c6520c1",
   "metadata": {},
   "source": [
    "Prd21 и Prd63 в ярко-выраженном топ-2 по количеству диагностируемых пациентов. При этом, Prd63 нет в продажах. "
   ]
  },
  {
   "cell_type": "markdown",
   "id": "9f9bf128",
   "metadata": {},
   "source": [
    "Соединим patient_flow с sales, посмотрим на количество диагностируемых пациентов проданными продуктами."
   ]
  },
  {
   "cell_type": "code",
   "execution_count": 1365,
   "id": "909d1c7b",
   "metadata": {},
   "outputs": [
    {
     "data": {
      "text/html": [
       "<div>\n",
       "<style scoped>\n",
       "    .dataframe tbody tr th:only-of-type {\n",
       "        vertical-align: middle;\n",
       "    }\n",
       "\n",
       "    .dataframe tbody tr th {\n",
       "        vertical-align: top;\n",
       "    }\n",
       "\n",
       "    .dataframe thead th {\n",
       "        text-align: right;\n",
       "    }\n",
       "</style>\n",
       "<table border=\"1\" class=\"dataframe\">\n",
       "  <thead>\n",
       "    <tr style=\"text-align: right;\">\n",
       "      <th></th>\n",
       "      <th>product_family</th>\n",
       "      <th>product</th>\n",
       "      <th>region_EN</th>\n",
       "      <th>territory_EN</th>\n",
       "      <th>date_x</th>\n",
       "      <th>diagnosed_patients</th>\n",
       "      <th>customer</th>\n",
       "      <th>business_unit</th>\n",
       "      <th>currency</th>\n",
       "      <th>date_y</th>\n",
       "      <th>sales</th>\n",
       "      <th>sales_year</th>\n",
       "      <th>sales_month</th>\n",
       "      <th>sales_week</th>\n",
       "    </tr>\n",
       "  </thead>\n",
       "  <tbody>\n",
       "    <tr>\n",
       "      <th>0</th>\n",
       "      <td>FAM1</td>\n",
       "      <td>Prd2</td>\n",
       "      <td>Central</td>\n",
       "      <td>Voronezh Oblast</td>\n",
       "      <td>2020-04-14</td>\n",
       "      <td>1</td>\n",
       "      <td>Cust1</td>\n",
       "      <td>unknow</td>\n",
       "      <td>M.RUB</td>\n",
       "      <td>2019-05-02</td>\n",
       "      <td>140357509</td>\n",
       "      <td>2019</td>\n",
       "      <td>5</td>\n",
       "      <td>18</td>\n",
       "    </tr>\n",
       "    <tr>\n",
       "      <th>1</th>\n",
       "      <td>FAM1</td>\n",
       "      <td>Prd2</td>\n",
       "      <td>Central</td>\n",
       "      <td>Voronezh Oblast</td>\n",
       "      <td>2020-04-14</td>\n",
       "      <td>1</td>\n",
       "      <td>Cust1</td>\n",
       "      <td>unknow</td>\n",
       "      <td>M.RUB</td>\n",
       "      <td>2019-03-29</td>\n",
       "      <td>7017875</td>\n",
       "      <td>2019</td>\n",
       "      <td>3</td>\n",
       "      <td>13</td>\n",
       "    </tr>\n",
       "    <tr>\n",
       "      <th>2</th>\n",
       "      <td>FAM1</td>\n",
       "      <td>Prd2</td>\n",
       "      <td>Central</td>\n",
       "      <td>Voronezh Oblast</td>\n",
       "      <td>2020-04-14</td>\n",
       "      <td>1</td>\n",
       "      <td>Cust1</td>\n",
       "      <td>unknow</td>\n",
       "      <td>M.RUB</td>\n",
       "      <td>2019-10-04</td>\n",
       "      <td>97688826</td>\n",
       "      <td>2019</td>\n",
       "      <td>10</td>\n",
       "      <td>40</td>\n",
       "    </tr>\n",
       "    <tr>\n",
       "      <th>3</th>\n",
       "      <td>FAM1</td>\n",
       "      <td>Prd2</td>\n",
       "      <td>Central</td>\n",
       "      <td>Voronezh Oblast</td>\n",
       "      <td>2020-04-14</td>\n",
       "      <td>1</td>\n",
       "      <td>Cust1</td>\n",
       "      <td>unknow</td>\n",
       "      <td>M.RUB</td>\n",
       "      <td>2019-04-30</td>\n",
       "      <td>7017875</td>\n",
       "      <td>2019</td>\n",
       "      <td>4</td>\n",
       "      <td>18</td>\n",
       "    </tr>\n",
       "    <tr>\n",
       "      <th>4</th>\n",
       "      <td>FAM1</td>\n",
       "      <td>Prd2</td>\n",
       "      <td>Central</td>\n",
       "      <td>Voronezh Oblast</td>\n",
       "      <td>2020-04-14</td>\n",
       "      <td>1</td>\n",
       "      <td>Cust1</td>\n",
       "      <td>unknow</td>\n",
       "      <td>M.RUB</td>\n",
       "      <td>2019-05-27</td>\n",
       "      <td>14597181</td>\n",
       "      <td>2019</td>\n",
       "      <td>5</td>\n",
       "      <td>22</td>\n",
       "    </tr>\n",
       "  </tbody>\n",
       "</table>\n",
       "</div>"
      ],
      "text/plain": [
       "  product_family product region_EN     territory_EN     date_x  \\\n",
       "0           FAM1    Prd2   Central  Voronezh Oblast 2020-04-14   \n",
       "1           FAM1    Prd2   Central  Voronezh Oblast 2020-04-14   \n",
       "2           FAM1    Prd2   Central  Voronezh Oblast 2020-04-14   \n",
       "3           FAM1    Prd2   Central  Voronezh Oblast 2020-04-14   \n",
       "4           FAM1    Prd2   Central  Voronezh Oblast 2020-04-14   \n",
       "\n",
       "   diagnosed_patients customer business_unit currency     date_y      sales  \\\n",
       "0                   1    Cust1        unknow    M.RUB 2019-05-02  140357509   \n",
       "1                   1    Cust1        unknow    M.RUB 2019-03-29    7017875   \n",
       "2                   1    Cust1        unknow    M.RUB 2019-10-04   97688826   \n",
       "3                   1    Cust1        unknow    M.RUB 2019-04-30    7017875   \n",
       "4                   1    Cust1        unknow    M.RUB 2019-05-27   14597181   \n",
       "\n",
       "   sales_year  sales_month  sales_week  \n",
       "0        2019            5          18  \n",
       "1        2019            3          13  \n",
       "2        2019           10          40  \n",
       "3        2019            4          18  \n",
       "4        2019            5          22  "
      ]
     },
     "execution_count": 1365,
     "metadata": {},
     "output_type": "execute_result"
    }
   ],
   "source": [
    "df_merge = patient_flow.merge(sales.query('sales>=0'), on=['product_family','product'])\n",
    "df_merge.head()"
   ]
  },
  {
   "cell_type": "code",
   "execution_count": 1366,
   "id": "ab58985f",
   "metadata": {},
   "outputs": [
    {
     "data": {
      "text/plain": [
       "Index(['product_family', 'product', 'region_EN', 'territory_EN',\n",
       "       'date_diagnosed', 'diagnosed_patients', 'customer', 'business_unit',\n",
       "       'currency', 'date_sales', 'sales', 'sales_year', 'sales_month',\n",
       "       'sales_week'],\n",
       "      dtype='object')"
      ]
     },
     "execution_count": 1366,
     "metadata": {},
     "output_type": "execute_result"
    }
   ],
   "source": [
    "#переименуем столбцы с датами\n",
    "df_merge = df_merge.rename(columns={'date_x': 'date_diagnosed', 'date_y':'date_sales'})\n",
    "df_merge.columns"
   ]
  },
  {
   "cell_type": "code",
   "execution_count": 1367,
   "id": "0732d480",
   "metadata": {},
   "outputs": [
    {
     "data": {
      "text/html": [
       "<div>\n",
       "<style scoped>\n",
       "    .dataframe tbody tr th:only-of-type {\n",
       "        vertical-align: middle;\n",
       "    }\n",
       "\n",
       "    .dataframe tbody tr th {\n",
       "        vertical-align: top;\n",
       "    }\n",
       "\n",
       "    .dataframe thead th {\n",
       "        text-align: right;\n",
       "    }\n",
       "</style>\n",
       "<table border=\"1\" class=\"dataframe\">\n",
       "  <thead>\n",
       "    <tr style=\"text-align: right;\">\n",
       "      <th></th>\n",
       "      <th>product_family</th>\n",
       "      <th>product</th>\n",
       "      <th>region_EN</th>\n",
       "      <th>territory_EN</th>\n",
       "      <th>date_diagnosed</th>\n",
       "      <th>diagnosed_patients</th>\n",
       "      <th>customer</th>\n",
       "      <th>business_unit</th>\n",
       "      <th>currency</th>\n",
       "      <th>sales</th>\n",
       "      <th>date_sales</th>\n",
       "    </tr>\n",
       "  </thead>\n",
       "  <tbody>\n",
       "    <tr>\n",
       "      <th>0</th>\n",
       "      <td>FAM1</td>\n",
       "      <td>Prd2</td>\n",
       "      <td>Central</td>\n",
       "      <td>Voronezh Oblast</td>\n",
       "      <td>2020-04-14</td>\n",
       "      <td>1</td>\n",
       "      <td>Cust1</td>\n",
       "      <td>unknow</td>\n",
       "      <td>M.RUB</td>\n",
       "      <td>140357509</td>\n",
       "      <td>2019-05-02</td>\n",
       "    </tr>\n",
       "    <tr>\n",
       "      <th>1</th>\n",
       "      <td>FAM1</td>\n",
       "      <td>Prd2</td>\n",
       "      <td>Central</td>\n",
       "      <td>Voronezh Oblast</td>\n",
       "      <td>2020-04-14</td>\n",
       "      <td>1</td>\n",
       "      <td>Cust1</td>\n",
       "      <td>unknow</td>\n",
       "      <td>M.RUB</td>\n",
       "      <td>7017875</td>\n",
       "      <td>2019-03-29</td>\n",
       "    </tr>\n",
       "    <tr>\n",
       "      <th>2</th>\n",
       "      <td>FAM1</td>\n",
       "      <td>Prd2</td>\n",
       "      <td>Central</td>\n",
       "      <td>Voronezh Oblast</td>\n",
       "      <td>2020-04-14</td>\n",
       "      <td>1</td>\n",
       "      <td>Cust1</td>\n",
       "      <td>unknow</td>\n",
       "      <td>M.RUB</td>\n",
       "      <td>97688826</td>\n",
       "      <td>2019-10-04</td>\n",
       "    </tr>\n",
       "    <tr>\n",
       "      <th>3</th>\n",
       "      <td>FAM1</td>\n",
       "      <td>Prd2</td>\n",
       "      <td>Central</td>\n",
       "      <td>Voronezh Oblast</td>\n",
       "      <td>2020-04-14</td>\n",
       "      <td>1</td>\n",
       "      <td>Cust1</td>\n",
       "      <td>unknow</td>\n",
       "      <td>M.RUB</td>\n",
       "      <td>7017875</td>\n",
       "      <td>2019-04-30</td>\n",
       "    </tr>\n",
       "    <tr>\n",
       "      <th>4</th>\n",
       "      <td>FAM1</td>\n",
       "      <td>Prd2</td>\n",
       "      <td>Central</td>\n",
       "      <td>Voronezh Oblast</td>\n",
       "      <td>2020-04-14</td>\n",
       "      <td>1</td>\n",
       "      <td>Cust1</td>\n",
       "      <td>unknow</td>\n",
       "      <td>M.RUB</td>\n",
       "      <td>14597181</td>\n",
       "      <td>2019-05-27</td>\n",
       "    </tr>\n",
       "  </tbody>\n",
       "</table>\n",
       "</div>"
      ],
      "text/plain": [
       "  product_family product region_EN     territory_EN date_diagnosed  \\\n",
       "0           FAM1    Prd2   Central  Voronezh Oblast     2020-04-14   \n",
       "1           FAM1    Prd2   Central  Voronezh Oblast     2020-04-14   \n",
       "2           FAM1    Prd2   Central  Voronezh Oblast     2020-04-14   \n",
       "3           FAM1    Prd2   Central  Voronezh Oblast     2020-04-14   \n",
       "4           FAM1    Prd2   Central  Voronezh Oblast     2020-04-14   \n",
       "\n",
       "   diagnosed_patients customer business_unit currency      sales date_sales  \n",
       "0                   1    Cust1        unknow    M.RUB  140357509 2019-05-02  \n",
       "1                   1    Cust1        unknow    M.RUB    7017875 2019-03-29  \n",
       "2                   1    Cust1        unknow    M.RUB   97688826 2019-10-04  \n",
       "3                   1    Cust1        unknow    M.RUB    7017875 2019-04-30  \n",
       "4                   1    Cust1        unknow    M.RUB   14597181 2019-05-27  "
      ]
     },
     "execution_count": 1367,
     "metadata": {},
     "output_type": "execute_result"
    }
   ],
   "source": [
    "#удалим ненужные столбцы\n",
    "df_merge = df_merge[['product_family','product','region_EN',\\\n",
    "                     'territory_EN','date_diagnosed','diagnosed_patients','customer','business_unit','currency','sales', 'date_sales']]\n",
    "df_merge.head()"
   ]
  },
  {
   "cell_type": "code",
   "execution_count": 1368,
   "id": "dd3e5b9d",
   "metadata": {},
   "outputs": [
    {
     "data": {
      "text/html": [
       "<div>\n",
       "<style scoped>\n",
       "    .dataframe tbody tr th:only-of-type {\n",
       "        vertical-align: middle;\n",
       "    }\n",
       "\n",
       "    .dataframe tbody tr th {\n",
       "        vertical-align: top;\n",
       "    }\n",
       "\n",
       "    .dataframe thead th {\n",
       "        text-align: right;\n",
       "    }\n",
       "</style>\n",
       "<table border=\"1\" class=\"dataframe\">\n",
       "  <thead>\n",
       "    <tr style=\"text-align: right;\">\n",
       "      <th></th>\n",
       "      <th>product_family</th>\n",
       "      <th>product</th>\n",
       "      <th>diagnosed_patients</th>\n",
       "    </tr>\n",
       "  </thead>\n",
       "  <tbody>\n",
       "    <tr>\n",
       "      <th>0</th>\n",
       "      <td>FAM8</td>\n",
       "      <td>Prd21</td>\n",
       "      <td>40511</td>\n",
       "    </tr>\n",
       "    <tr>\n",
       "      <th>1</th>\n",
       "      <td>FAM1</td>\n",
       "      <td>Prd2</td>\n",
       "      <td>7780</td>\n",
       "    </tr>\n",
       "  </tbody>\n",
       "</table>\n",
       "</div>"
      ],
      "text/plain": [
       "  product_family product  diagnosed_patients\n",
       "0           FAM8   Prd21               40511\n",
       "1           FAM1    Prd2                7780"
      ]
     },
     "execution_count": 1368,
     "metadata": {},
     "output_type": "execute_result"
    }
   ],
   "source": [
    "#количество диагностированных пациентов по продуктам тыблицы sales\n",
    "df_merge.groupby(['product_family','product']).agg({'diagnosed_patients':'sum'})\\\n",
    "                    .sort_values('diagnosed_patients', ascending=False).reset_index()"
   ]
  },
  {
   "cell_type": "markdown",
   "id": "57ab95f0",
   "metadata": {},
   "source": [
    "Получается, что всего два продукта попали в таблицу с количеством диагностируемых пациентов - это Prd21 и Prd2. При этом количество продиагностированных пациентов продуктом Prd21 много больше, чем Prd2. Посмотрим ещё распределение таких пациентов по регионам."
   ]
  },
  {
   "cell_type": "code",
   "execution_count": 1369,
   "id": "0fe62ba2",
   "metadata": {
    "scrolled": true
   },
   "outputs": [
    {
     "data": {
      "image/png": "[encoded data removed]",
      "text/plain": [
       "<Figure size 500x500 with 1 Axes>"
      ]
     },
     "metadata": {},
     "output_type": "display_data"
    }
   ],
   "source": [
    "pivot_reg_prd21 = df_merge[df_merge['product']=='Prd21'].pivot_table(index='region_EN', values='diagnosed_patients', aggfunc='sum').\\\n",
    "                                                            sort_values('diagnosed_patients', ascending=False).head()\n",
    "pivot_reg_prd21.plot(y='diagnosed_patients', kind='pie', autopct='%1.0f%%', figsize=(5,5))\n",
    "plt.title(\"Количество диагностированных пациентов по регионам (продукт prd21)\")\n",
    "plt.ylabel(\"\")\n",
    "plt.legend(bbox_to_anchor=( 1.02 , 1 ), loc='upper left', borderaxespad= 0 )\n",
    "plt.show;"
   ]
  },
  {
   "cell_type": "code",
   "execution_count": 1370,
   "id": "9ad6c3d4",
   "metadata": {},
   "outputs": [
    {
     "data": {
      "image/png": "[encoded data removed]",
      "text/plain": [
       "<Figure size 500x500 with 1 Axes>"
      ]
     },
     "metadata": {},
     "output_type": "display_data"
    }
   ],
   "source": [
    "pivot_reg_prd2 = df_merge[df_merge['product']=='Prd2'].pivot_table(index='region_EN', values='diagnosed_patients', aggfunc='sum').\\\n",
    "                                                            sort_values('diagnosed_patients', ascending=False).head()\n",
    "pivot_reg_prd2.plot(y='diagnosed_patients', kind='pie', autopct='%1.0f%%', figsize=(5,5))\n",
    "plt.title(\"Количество диагностированных пациентов по регионам (продукт prd2)\")\n",
    "plt.ylabel(\"\")\n",
    "plt.show\n",
    "plt.legend(bbox_to_anchor=( 1.02 , 1 ), loc='upper left', borderaxespad= 0 );"
   ]
  },
  {
   "cell_type": "markdown",
   "id": "9429e5ea",
   "metadata": {},
   "source": [
    "Prd21 чаще использовали в Москве, Prd2 - на Юге. Prd21 не использовали на Урале, Prd2 - в центральных регионах (кроме Москвы)."
   ]
  }
 ],
 "metadata": {
  "kernelspec": {
   "display_name": "Python 3 (ipykernel)",
   "language": "python",
   "name": "python3"
  },
  "language_info": {
   "codemirror_mode": {
    "name": "ipython",
    "version": 3
   },
   "file_extension": ".py",
   "mimetype": "text/x-python",
   "name": "python",
   "nbconvert_exporter": "python",
   "pygments_lexer": "ipython3",
   "version": "3.9.13"
  }
 },
 "nbformat": 4,
 "nbformat_minor": 5
}
